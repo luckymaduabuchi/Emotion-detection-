{
 "cells": [
  {
   "cell_type": "markdown",
   "metadata": {
    "id": "oe9vkEvFABbN"
   },
   "source": [
    "\n",
    "# Train Passt-tiny on CREMA-D dataset\n",
    "\n",
    "---\n",
    "\n",
    "[![GitHub](https://badges.aleen42.com/src/github.svg)](https://github.com/ultralytics/ultralytics)\n",
    "\n"
   ]
  },
  {
   "cell_type": "markdown",
   "metadata": {
    "id": "eO4jp3hX8dhj"
   },
   "source": [
    "## Setup"
   ]
  },
  {
   "cell_type": "code",
   "execution_count": 1,
   "metadata": {
    "colab": {
     "base_uri": "https://localhost:8080/"
    },
    "id": "Y8cDtxLIBHgQ",
    "outputId": "d8f8bbb3-c346-421f-ff16-f2959a52ba15"
   },
   "outputs": [
    {
     "name": "stderr",
     "output_type": "stream",
     "text": [
      "/home/lucky/anaconda3/envs/ee526/lib/python3.9/site-packages/tqdm/auto.py:21: TqdmWarning: IProgress not found. Please update jupyter and ipywidgets. See https://ipywidgets.readthedocs.io/en/stable/user_install.html\n",
      "  from .autonotebook import tqdm as notebook_tqdm\n"
     ]
    }
   ],
   "source": [
    "#!/usr/bin/env python\n",
    "# Finetune PaSST for emotion recognition (GPU‑friendly, silent)\n",
    "# ------------------------------------------------------------\n",
    "# Notebook‑ready: each section is a cell (# %%).\n",
    "# Uses **torch.amp** API (PyTorch 2.x) with amp.GradScaler and torch.amp.autocast(\"cuda\").\n",
    "\n",
    "# %% [markdown]\n",
    "# ### 0  Setup & installs (skip if already satisfied)\n",
    "# !pip install hear21passt torchaudio scikit-learn tqdm matplotlib seaborn --quiet\n",
    "\n",
    "# %%\n",
    "import os, random, csv\n",
    "from pathlib import Path\n",
    "from typing import List, Tuple\n",
    "\n",
    "import torch, torchaudio, soundfile as sf\n",
    "import torch.nn as nn\n",
    "import torch.nn.functional as F\n",
    "import torchaudio.transforms as T\n",
    "from torch.utils.data import Dataset, DataLoader\n",
    "\n",
    "# mixed precision\n",
    "from torch import amp                 # torch.amp API (PyTorch ≥ 2.0)\n",
    "from torch.amp import autocast         # amp.autocast(\"cuda\") is the new form\n",
    "\n",
    "import numpy as np\n",
    "import matplotlib.pyplot as plt\n",
    "from sklearn.metrics import classification_report, confusion_matrix, f1_score\n",
    "from tqdm.auto import tqdm\n",
    "\n",
    "from hear21passt.base import get_model_passt\n",
    "import hear21passt.models.passt as passt_module\n",
    "passt_module.first_RUN = False  # silence debug prints\n",
    "\n",
    "torch.backends.cudnn.benchmark = True"
   ]
  },
  {
   "cell_type": "markdown",
   "metadata": {
    "id": "fcvTRlHH8n5V"
   },
   "source": [
    "**NOTE:** To make it easier for us to manage datasets, images and models we create a `HOME` constant."
   ]
  },
  {
   "cell_type": "markdown",
   "metadata": {
    "id": "3C3EO_2zNChu"
   },
   "source": [
    "## Install PaSST transformer"
   ]
  },
  {
   "cell_type": "code",
   "execution_count": 2,
   "metadata": {
    "colab": {
     "base_uri": "https://localhost:8080/"
    },
    "id": "tdSMcABDNKW-",
    "outputId": "bb2cbcb6-017a-416e-9ce9-0fa36888c88e"
   },
   "outputs": [
    {
     "name": "stdout",
     "output_type": "stream",
     "text": [
      "Using cuda\n"
     ]
    }
   ],
   "source": [
    "# %% [markdown]\n",
    "# ### 1  Seed\n",
    "# %%\n",
    "\n",
    "def set_seed(seed=42):\n",
    "    random.seed(seed); np.random.seed(seed)\n",
    "    torch.manual_seed(seed); torch.cuda.manual_seed_all(seed)\n",
    "set_seed()\n",
    "\n",
    "# %% [markdown]\n",
    "# ### 2  Constants\n",
    "# %%\n",
    "EMOTIONS = [\"ANG\", \"DIS\", \"FEA\", \"HAP\", \"NEU\", \"SAD\"]\n",
    "LABEL_MAP = {e: i for i, e in enumerate(EMOTIONS)}\n",
    "TARGET_SR = 32_000\n",
    "NUM_SAMPLES = 1024 + (998 - 1) * 320  # 10 s @ 32 kHz\n",
    "DEVICE = torch.device(\"cuda\" if torch.cuda.is_available() else \"cpu\")\n",
    "print(\"Using\", DEVICE)\n"
   ]
  },
  {
   "cell_type": "markdown",
   "metadata": {
    "id": "s5RGYA6sPgEd"
   },
   "source": [
    "## Preprocess and extract embeddings\n",
    "\n",
    "\n"
   ]
  },
  {
   "cell_type": "code",
   "execution_count": 3,
   "metadata": {
    "colab": {
     "base_uri": "https://localhost:8080/",
     "height": 1000
    },
    "id": "FDbMt_M6PiXb",
    "outputId": "fb56788d-8eb6-4227-d72f-b625533cd9a9"
   },
   "outputs": [],
   "source": [
    "# %% [markdown]\n",
    "# ### 3  Dataset → log‑mel (1×128×998)\n",
    "# %%\n",
    "class EmotionDataset(Dataset):\n",
    "    def __init__(self, csv_path: Path, audio_root: Path, augment=False):\n",
    "        self.recs: List[Tuple[Path, int]] = []\n",
    "        with open(csv_path, newline=\"\") as f:\n",
    "            for row in csv.DictReader(f):\n",
    "                emo = row[\"emotion\"].strip().upper(); fn = row[\"filename\"].strip()\n",
    "                if emo in LABEL_MAP:\n",
    "                    self.recs.append((audio_root / fn, LABEL_MAP[emo]))\n",
    "        if not self.recs:\n",
    "            raise ValueError(\"CSV has no usable rows\")\n",
    "        self.augment = augment\n",
    "        self.resample = T.Resample(TARGET_SR, TARGET_SR)\n",
    "        self.mel = T.MelSpectrogram(sample_rate=TARGET_SR, n_fft=1024, hop_length=320, n_mels=128, center=False)\n",
    "        self.db = T.AmplitudeToDB(\"power\")\n",
    "        self.pitch = lambda w: T.PitchShift(TARGET_SR, n_steps=random.uniform(-2, 2))(w)\n",
    "        self.gain = lambda w: T.Vol(gain=random.uniform(-6, 6), gain_type=\"db\")(w)\n",
    "\n",
    "    def __len__(self):\n",
    "        return len(self.recs)\n",
    "\n",
    "    def _augment(self, wav):\n",
    "        if random.random() < 0.5:\n",
    "            wav += torch.randn_like(wav) * 0.005\n",
    "        if random.random() < 0.3:\n",
    "            wav = self.gain(wav)\n",
    "        if random.random() < 0.2:\n",
    "            wav = self.pitch(wav)\n",
    "        return wav\n",
    "\n",
    "    def __getitem__(self, idx):\n",
    "        path, label = self.recs[idx]\n",
    "        try:\n",
    "            wav, sr = torchaudio.load(path)\n",
    "        except RuntimeError:  # fallback for exotic PCM\n",
    "            wav_np, sr = sf.read(path, always_2d=False)\n",
    "            if wav_np.ndim == 1:\n",
    "                wav_np = wav_np[None, :]\n",
    "            wav = torch.from_numpy(wav_np).float()\n",
    "        if wav.shape[0] > 1:\n",
    "            wav = wav.mean(0, keepdim=True)\n",
    "        if sr != TARGET_SR:\n",
    "            wav = self.resample(wav)\n",
    "        if self.augment:\n",
    "            wav = self._augment(wav)\n",
    "        wav = (wav - wav.mean()) / (wav.std() + 1e-9)\n",
    "        mel = self.db(self.mel(wav)).clamp(min=-80.0)\n",
    "        mel = F.pad(mel, (0, max(0, 998 - mel.shape[2])))[:, :, :998]\n",
    "        return mel, label\n"
   ]
  },
  {
   "cell_type": "markdown",
   "metadata": {
    "id": "z1XBAm7toMd7"
   },
   "source": [
    "## Load train/val/test Features"
   ]
  },
  {
   "cell_type": "code",
   "execution_count": 4,
   "metadata": {},
   "outputs": [
    {
     "name": "stdout",
     "output_type": "stream",
     "text": [
      "5209 train 1116 val 1117 test\n",
      "\n",
      "\n",
      " Loading PASST TRAINED ON AUDISET \n",
      "\n",
      "\n",
      "PaSST(\n",
      "  (patch_embed): PatchEmbed(\n",
      "    (proj): Conv2d(1, 768, kernel_size=(16, 16), stride=(10, 10))\n",
      "    (norm): Identity()\n",
      "  )\n",
      "  (pos_drop): Dropout(p=0.0, inplace=False)\n",
      "  (blocks): Sequential(\n",
      "    (0): Block(\n",
      "      (norm1): LayerNorm((768,), eps=1e-06, elementwise_affine=True)\n",
      "      (attn): Attention(\n",
      "        (qkv): Linear(in_features=768, out_features=2304, bias=True)\n",
      "        (attn_drop): Dropout(p=0.0, inplace=False)\n",
      "        (proj): Linear(in_features=768, out_features=768, bias=True)\n",
      "        (proj_drop): Dropout(p=0.0, inplace=False)\n",
      "      )\n",
      "      (drop_path): Identity()\n",
      "      (norm2): LayerNorm((768,), eps=1e-06, elementwise_affine=True)\n",
      "      (mlp): Mlp(\n",
      "        (fc1): Linear(in_features=768, out_features=3072, bias=True)\n",
      "        (act): GELU(approximate='none')\n",
      "        (fc2): Linear(in_features=3072, out_features=768, bias=True)\n",
      "        (drop): Dropout(p=0.0, inplace=False)\n",
      "      )\n",
      "    )\n",
      "    (1): Block(\n",
      "      (norm1): LayerNorm((768,), eps=1e-06, elementwise_affine=True)\n",
      "      (attn): Attention(\n",
      "        (qkv): Linear(in_features=768, out_features=2304, bias=True)\n",
      "        (attn_drop): Dropout(p=0.0, inplace=False)\n",
      "        (proj): Linear(in_features=768, out_features=768, bias=True)\n",
      "        (proj_drop): Dropout(p=0.0, inplace=False)\n",
      "      )\n",
      "      (drop_path): Identity()\n",
      "      (norm2): LayerNorm((768,), eps=1e-06, elementwise_affine=True)\n",
      "      (mlp): Mlp(\n",
      "        (fc1): Linear(in_features=768, out_features=3072, bias=True)\n",
      "        (act): GELU(approximate='none')\n",
      "        (fc2): Linear(in_features=3072, out_features=768, bias=True)\n",
      "        (drop): Dropout(p=0.0, inplace=False)\n",
      "      )\n",
      "    )\n",
      "    (2): Block(\n",
      "      (norm1): LayerNorm((768,), eps=1e-06, elementwise_affine=True)\n",
      "      (attn): Attention(\n",
      "        (qkv): Linear(in_features=768, out_features=2304, bias=True)\n",
      "        (attn_drop): Dropout(p=0.0, inplace=False)\n",
      "        (proj): Linear(in_features=768, out_features=768, bias=True)\n",
      "        (proj_drop): Dropout(p=0.0, inplace=False)\n",
      "      )\n",
      "      (drop_path): Identity()\n",
      "      (norm2): LayerNorm((768,), eps=1e-06, elementwise_affine=True)\n",
      "      (mlp): Mlp(\n",
      "        (fc1): Linear(in_features=768, out_features=3072, bias=True)\n",
      "        (act): GELU(approximate='none')\n",
      "        (fc2): Linear(in_features=3072, out_features=768, bias=True)\n",
      "        (drop): Dropout(p=0.0, inplace=False)\n",
      "      )\n",
      "    )\n",
      "    (3): Block(\n",
      "      (norm1): LayerNorm((768,), eps=1e-06, elementwise_affine=True)\n",
      "      (attn): Attention(\n",
      "        (qkv): Linear(in_features=768, out_features=2304, bias=True)\n",
      "        (attn_drop): Dropout(p=0.0, inplace=False)\n",
      "        (proj): Linear(in_features=768, out_features=768, bias=True)\n",
      "        (proj_drop): Dropout(p=0.0, inplace=False)\n",
      "      )\n",
      "      (drop_path): Identity()\n",
      "      (norm2): LayerNorm((768,), eps=1e-06, elementwise_affine=True)\n",
      "      (mlp): Mlp(\n",
      "        (fc1): Linear(in_features=768, out_features=3072, bias=True)\n",
      "        (act): GELU(approximate='none')\n",
      "        (fc2): Linear(in_features=3072, out_features=768, bias=True)\n",
      "        (drop): Dropout(p=0.0, inplace=False)\n",
      "      )\n",
      "    )\n",
      "    (4): Block(\n",
      "      (norm1): LayerNorm((768,), eps=1e-06, elementwise_affine=True)\n",
      "      (attn): Attention(\n",
      "        (qkv): Linear(in_features=768, out_features=2304, bias=True)\n",
      "        (attn_drop): Dropout(p=0.0, inplace=False)\n",
      "        (proj): Linear(in_features=768, out_features=768, bias=True)\n",
      "        (proj_drop): Dropout(p=0.0, inplace=False)\n",
      "      )\n",
      "      (drop_path): Identity()\n",
      "      (norm2): LayerNorm((768,), eps=1e-06, elementwise_affine=True)\n",
      "      (mlp): Mlp(\n",
      "        (fc1): Linear(in_features=768, out_features=3072, bias=True)\n",
      "        (act): GELU(approximate='none')\n",
      "        (fc2): Linear(in_features=3072, out_features=768, bias=True)\n",
      "        (drop): Dropout(p=0.0, inplace=False)\n",
      "      )\n",
      "    )\n",
      "    (5): Block(\n",
      "      (norm1): LayerNorm((768,), eps=1e-06, elementwise_affine=True)\n",
      "      (attn): Attention(\n",
      "        (qkv): Linear(in_features=768, out_features=2304, bias=True)\n",
      "        (attn_drop): Dropout(p=0.0, inplace=False)\n",
      "        (proj): Linear(in_features=768, out_features=768, bias=True)\n",
      "        (proj_drop): Dropout(p=0.0, inplace=False)\n",
      "      )\n",
      "      (drop_path): Identity()\n",
      "      (norm2): LayerNorm((768,), eps=1e-06, elementwise_affine=True)\n",
      "      (mlp): Mlp(\n",
      "        (fc1): Linear(in_features=768, out_features=3072, bias=True)\n",
      "        (act): GELU(approximate='none')\n",
      "        (fc2): Linear(in_features=3072, out_features=768, bias=True)\n",
      "        (drop): Dropout(p=0.0, inplace=False)\n",
      "      )\n",
      "    )\n",
      "    (6): Block(\n",
      "      (norm1): LayerNorm((768,), eps=1e-06, elementwise_affine=True)\n",
      "      (attn): Attention(\n",
      "        (qkv): Linear(in_features=768, out_features=2304, bias=True)\n",
      "        (attn_drop): Dropout(p=0.0, inplace=False)\n",
      "        (proj): Linear(in_features=768, out_features=768, bias=True)\n",
      "        (proj_drop): Dropout(p=0.0, inplace=False)\n",
      "      )\n",
      "      (drop_path): Identity()\n",
      "      (norm2): LayerNorm((768,), eps=1e-06, elementwise_affine=True)\n",
      "      (mlp): Mlp(\n",
      "        (fc1): Linear(in_features=768, out_features=3072, bias=True)\n",
      "        (act): GELU(approximate='none')\n",
      "        (fc2): Linear(in_features=3072, out_features=768, bias=True)\n",
      "        (drop): Dropout(p=0.0, inplace=False)\n",
      "      )\n",
      "    )\n",
      "    (7): Block(\n",
      "      (norm1): LayerNorm((768,), eps=1e-06, elementwise_affine=True)\n",
      "      (attn): Attention(\n",
      "        (qkv): Linear(in_features=768, out_features=2304, bias=True)\n",
      "        (attn_drop): Dropout(p=0.0, inplace=False)\n",
      "        (proj): Linear(in_features=768, out_features=768, bias=True)\n",
      "        (proj_drop): Dropout(p=0.0, inplace=False)\n",
      "      )\n",
      "      (drop_path): Identity()\n",
      "      (norm2): LayerNorm((768,), eps=1e-06, elementwise_affine=True)\n",
      "      (mlp): Mlp(\n",
      "        (fc1): Linear(in_features=768, out_features=3072, bias=True)\n",
      "        (act): GELU(approximate='none')\n",
      "        (fc2): Linear(in_features=3072, out_features=768, bias=True)\n",
      "        (drop): Dropout(p=0.0, inplace=False)\n",
      "      )\n",
      "    )\n",
      "    (8): Block(\n",
      "      (norm1): LayerNorm((768,), eps=1e-06, elementwise_affine=True)\n",
      "      (attn): Attention(\n",
      "        (qkv): Linear(in_features=768, out_features=2304, bias=True)\n",
      "        (attn_drop): Dropout(p=0.0, inplace=False)\n",
      "        (proj): Linear(in_features=768, out_features=768, bias=True)\n",
      "        (proj_drop): Dropout(p=0.0, inplace=False)\n",
      "      )\n",
      "      (drop_path): Identity()\n",
      "      (norm2): LayerNorm((768,), eps=1e-06, elementwise_affine=True)\n",
      "      (mlp): Mlp(\n",
      "        (fc1): Linear(in_features=768, out_features=3072, bias=True)\n",
      "        (act): GELU(approximate='none')\n",
      "        (fc2): Linear(in_features=3072, out_features=768, bias=True)\n",
      "        (drop): Dropout(p=0.0, inplace=False)\n",
      "      )\n",
      "    )\n",
      "    (9): Block(\n",
      "      (norm1): LayerNorm((768,), eps=1e-06, elementwise_affine=True)\n",
      "      (attn): Attention(\n",
      "        (qkv): Linear(in_features=768, out_features=2304, bias=True)\n",
      "        (attn_drop): Dropout(p=0.0, inplace=False)\n",
      "        (proj): Linear(in_features=768, out_features=768, bias=True)\n",
      "        (proj_drop): Dropout(p=0.0, inplace=False)\n",
      "      )\n",
      "      (drop_path): Identity()\n",
      "      (norm2): LayerNorm((768,), eps=1e-06, elementwise_affine=True)\n",
      "      (mlp): Mlp(\n",
      "        (fc1): Linear(in_features=768, out_features=3072, bias=True)\n",
      "        (act): GELU(approximate='none')\n",
      "        (fc2): Linear(in_features=3072, out_features=768, bias=True)\n",
      "        (drop): Dropout(p=0.0, inplace=False)\n",
      "      )\n",
      "    )\n",
      "    (10): Block(\n",
      "      (norm1): LayerNorm((768,), eps=1e-06, elementwise_affine=True)\n",
      "      (attn): Attention(\n",
      "        (qkv): Linear(in_features=768, out_features=2304, bias=True)\n",
      "        (attn_drop): Dropout(p=0.0, inplace=False)\n",
      "        (proj): Linear(in_features=768, out_features=768, bias=True)\n",
      "        (proj_drop): Dropout(p=0.0, inplace=False)\n",
      "      )\n",
      "      (drop_path): Identity()\n",
      "      (norm2): LayerNorm((768,), eps=1e-06, elementwise_affine=True)\n",
      "      (mlp): Mlp(\n",
      "        (fc1): Linear(in_features=768, out_features=3072, bias=True)\n",
      "        (act): GELU(approximate='none')\n",
      "        (fc2): Linear(in_features=3072, out_features=768, bias=True)\n",
      "        (drop): Dropout(p=0.0, inplace=False)\n",
      "      )\n",
      "    )\n",
      "    (11): Block(\n",
      "      (norm1): LayerNorm((768,), eps=1e-06, elementwise_affine=True)\n",
      "      (attn): Attention(\n",
      "        (qkv): Linear(in_features=768, out_features=2304, bias=True)\n",
      "        (attn_drop): Dropout(p=0.0, inplace=False)\n",
      "        (proj): Linear(in_features=768, out_features=768, bias=True)\n",
      "        (proj_drop): Dropout(p=0.0, inplace=False)\n",
      "      )\n",
      "      (drop_path): Identity()\n",
      "      (norm2): LayerNorm((768,), eps=1e-06, elementwise_affine=True)\n",
      "      (mlp): Mlp(\n",
      "        (fc1): Linear(in_features=768, out_features=3072, bias=True)\n",
      "        (act): GELU(approximate='none')\n",
      "        (fc2): Linear(in_features=3072, out_features=768, bias=True)\n",
      "        (drop): Dropout(p=0.0, inplace=False)\n",
      "      )\n",
      "    )\n",
      "  )\n",
      "  (norm): LayerNorm((768,), eps=1e-06, elementwise_affine=True)\n",
      "  (pre_logits): Identity()\n",
      "  (head): Sequential(\n",
      "    (0): LayerNorm((768,), eps=1e-05, elementwise_affine=True)\n",
      "    (1): Linear(in_features=768, out_features=6, bias=True)\n",
      "  )\n",
      "  (head_dist): Linear(in_features=768, out_features=6, bias=True)\n",
      ")\n",
      "Trainable 7.087872 M params\n"
     ]
    }
   ],
   "source": [
    "\n",
    "# %% [markdown]\n",
    "# ### 4  Load data\n",
    "# %%\n",
    "DATA_ROOT=Path(\"/home/lucky/Documents/research/dataset\")  # adjust\n",
    "BATCH = 5; ACC_STEPS = 2\n",
    "train_ds = EmotionDataset(DATA_ROOT / \"train.csv\", DATA_ROOT / \"train\", augment=True)\n",
    "val_ds   = EmotionDataset(DATA_ROOT / \"val.csv\",   DATA_ROOT / \"val\")\n",
    "test_ds  = EmotionDataset(DATA_ROOT / \"test.csv\",  DATA_ROOT / \"test\")\n",
    "collate = lambda b: (torch.stack([x for x, _ in b]), torch.tensor([y for _, y in b]))\n",
    "train_loader = DataLoader(train_ds, BATCH, True, drop_last=True, pin_memory=True, collate_fn=collate)\n",
    "val_loader   = DataLoader(val_ds,   BATCH, False, pin_memory=True, collate_fn=collate)\n",
    "print(len(train_ds), \"train\", len(val_ds), \"val\", len(test_ds), \"test\")\n",
    "\n",
    "# %% [markdown]\n",
    "# ### 5  Model & training utilities\n",
    "# %%\n",
    "model = get_model_passt(\"passt_s_swa_p16_128_ap476\", pretrained=True, n_classes=len(EMOTIONS)).to(DEVICE)\n",
    "for n, p in model.named_parameters():\n",
    "    p.requires_grad = n.startswith(\"blocks.11\") or n.startswith(\"mlp_head\")\n",
    "print(\"Trainable\", sum(p.numel() for p in model.parameters() if p.requires_grad) / 1e6, \"M params\")\n",
    "\n",
    "criterion = nn.CrossEntropyLoss()\n",
    "optimizer = torch.optim.AdamW(filter(lambda p: p.requires_grad, model.parameters()), lr=1e-5, weight_decay=1e-2)\n",
    "scaler = amp.GradScaler(device=\"cuda\")\n",
    "\n",
    "# patchout for memory\n",
    "model.train_patchout = True; model.train_patchout_t = 5; model.train_patchout_f = 2\n",
    "\n",
    "# %% [markdown]\n",
    "# ### 6  Train / eval loops (AMP + accumulation)\n",
    "# %%"
   ]
  },
  {
   "cell_type": "code",
   "execution_count": 5,
   "metadata": {},
   "outputs": [],
   "source": [
    "## Create DataLoaders"
   ]
  },
  {
   "cell_type": "code",
   "execution_count": 6,
   "metadata": {},
   "outputs": [],
   "source": [
    "def one_epoch():\n",
    "    model.train(); running = 0; optimizer.zero_grad()\n",
    "    for i, (xb, yb) in enumerate(tqdm(train_loader, desc=\"train\", leave=False)):\n",
    "        xb, yb = xb.to(DEVICE), yb.to(DEVICE)\n",
    "        with autocast(device_type=\"cuda\"):\n",
    "            out = model(xb)[0] if isinstance(model(xb), tuple) else model(xb)\n",
    "            loss = criterion(out, yb) / ACC_STEPS\n",
    "        scaler.scale(loss).backward()\n",
    "        if (i + 1) % ACC_STEPS == 0:\n",
    "            scaler.step(optimizer); scaler.update(); optimizer.zero_grad()\n",
    "        running += loss.item() * ACC_STEPS * xb.size(0)\n",
    "    return running / len(train_loader.dataset)\n",
    "\n",
    "\n",
    "def evaluate(loader):\n",
    "    model.eval(); yt, yp = [], []\n",
    "    with torch.no_grad(), autocast(device_type=\"cuda\"):\n",
    "        for xb, yb in loader:\n",
    "            logits = model(xb.to(DEVICE))\n",
    "            logits = logits[0] if isinstance(logits, tuple) else logits\n",
    "            preds = logits.argmax(1).cpu()\n",
    "            yt += yb.tolist(); yp += preds.tolist()\n",
    "    return f1_score(yt, yp, average=\"weighted\"), yt, yp\n"
   ]
  },
  {
   "cell_type": "code",
   "execution_count": 7,
   "metadata": {},
   "outputs": [],
   "source": [
    "## Define MLP Classifier"
   ]
  },
  {
   "cell_type": "code",
   "execution_count": 8,
   "metadata": {},
   "outputs": [
    {
     "name": "stderr",
     "output_type": "stream",
     "text": [
      "                                                             "
     ]
    },
    {
     "name": "stdout",
     "output_type": "stream",
     "text": [
      "Epoch 01: loss 1.6578  val‑F1 0.3281\n",
      "📝 new best saved\n"
     ]
    },
    {
     "name": "stderr",
     "output_type": "stream",
     "text": [
      "                                                             "
     ]
    },
    {
     "name": "stdout",
     "output_type": "stream",
     "text": [
      "Epoch 02: loss 1.4826  val‑F1 0.3884\n",
      "📝 new best saved\n"
     ]
    },
    {
     "name": "stderr",
     "output_type": "stream",
     "text": [
      "                                                             "
     ]
    },
    {
     "name": "stdout",
     "output_type": "stream",
     "text": [
      "Epoch 03: loss 1.4142  val‑F1 0.3793\n"
     ]
    },
    {
     "name": "stderr",
     "output_type": "stream",
     "text": [
      "                                                             "
     ]
    },
    {
     "name": "stdout",
     "output_type": "stream",
     "text": [
      "Epoch 04: loss 1.3883  val‑F1 0.4044\n",
      "📝 new best saved\n"
     ]
    },
    {
     "name": "stderr",
     "output_type": "stream",
     "text": [
      "                                                             "
     ]
    },
    {
     "name": "stdout",
     "output_type": "stream",
     "text": [
      "Epoch 05: loss 1.3587  val‑F1 0.4467\n",
      "📝 new best saved\n"
     ]
    },
    {
     "name": "stderr",
     "output_type": "stream",
     "text": [
      "                                                             "
     ]
    },
    {
     "name": "stdout",
     "output_type": "stream",
     "text": [
      "Epoch 06: loss 1.3399  val‑F1 0.4462\n"
     ]
    },
    {
     "name": "stderr",
     "output_type": "stream",
     "text": [
      "                                                             "
     ]
    },
    {
     "name": "stdout",
     "output_type": "stream",
     "text": [
      "Epoch 07: loss 1.3206  val‑F1 0.4445\n"
     ]
    },
    {
     "name": "stderr",
     "output_type": "stream",
     "text": [
      "                                                             "
     ]
    },
    {
     "name": "stdout",
     "output_type": "stream",
     "text": [
      "Epoch 08: loss 1.3025  val‑F1 0.4740\n",
      "📝 new best saved\n"
     ]
    },
    {
     "name": "stderr",
     "output_type": "stream",
     "text": [
      "                                                             "
     ]
    },
    {
     "name": "stdout",
     "output_type": "stream",
     "text": [
      "Epoch 09: loss 1.2855  val‑F1 0.4604\n"
     ]
    },
    {
     "name": "stderr",
     "output_type": "stream",
     "text": [
      "                                                             "
     ]
    },
    {
     "name": "stdout",
     "output_type": "stream",
     "text": [
      "Epoch 10: loss 1.2627  val‑F1 0.4832\n",
      "📝 new best saved\n"
     ]
    },
    {
     "name": "stderr",
     "output_type": "stream",
     "text": [
      "                                                             "
     ]
    },
    {
     "name": "stdout",
     "output_type": "stream",
     "text": [
      "Epoch 11: loss 1.2494  val‑F1 0.4667\n"
     ]
    },
    {
     "name": "stderr",
     "output_type": "stream",
     "text": [
      "                                                             "
     ]
    },
    {
     "name": "stdout",
     "output_type": "stream",
     "text": [
      "Epoch 12: loss 1.2316  val‑F1 0.4649\n"
     ]
    },
    {
     "name": "stderr",
     "output_type": "stream",
     "text": [
      "                                                             "
     ]
    },
    {
     "name": "stdout",
     "output_type": "stream",
     "text": [
      "Epoch 13: loss 1.2232  val‑F1 0.4717\n"
     ]
    },
    {
     "name": "stderr",
     "output_type": "stream",
     "text": [
      "                                                             "
     ]
    },
    {
     "name": "stdout",
     "output_type": "stream",
     "text": [
      "Epoch 14: loss 1.2098  val‑F1 0.4889\n",
      "📝 new best saved\n"
     ]
    },
    {
     "name": "stderr",
     "output_type": "stream",
     "text": [
      "                                                             "
     ]
    },
    {
     "name": "stdout",
     "output_type": "stream",
     "text": [
      "Epoch 15: loss 1.1995  val‑F1 0.4755\n"
     ]
    },
    {
     "name": "stderr",
     "output_type": "stream",
     "text": [
      "                                                             "
     ]
    },
    {
     "name": "stdout",
     "output_type": "stream",
     "text": [
      "Epoch 16: loss 1.1809  val‑F1 0.4676\n"
     ]
    },
    {
     "name": "stderr",
     "output_type": "stream",
     "text": [
      "                                                             "
     ]
    },
    {
     "name": "stdout",
     "output_type": "stream",
     "text": [
      "Epoch 17: loss 1.1794  val‑F1 0.4791\n"
     ]
    },
    {
     "name": "stderr",
     "output_type": "stream",
     "text": [
      "                                                             "
     ]
    },
    {
     "name": "stdout",
     "output_type": "stream",
     "text": [
      "Epoch 18: loss 1.1557  val‑F1 0.4873\n"
     ]
    },
    {
     "name": "stderr",
     "output_type": "stream",
     "text": [
      "                                                             "
     ]
    },
    {
     "name": "stdout",
     "output_type": "stream",
     "text": [
      "Epoch 19: loss 1.1451  val‑F1 0.4999\n",
      "📝 new best saved\n"
     ]
    },
    {
     "name": "stderr",
     "output_type": "stream",
     "text": [
      "                                                             "
     ]
    },
    {
     "name": "stdout",
     "output_type": "stream",
     "text": [
      "Epoch 20: loss 1.1374  val‑F1 0.5119\n",
      "📝 new best saved\n"
     ]
    }
   ],
   "source": [
    "# %% [markdown]\n",
    "# ### 7  Run training\n",
    "# %%\n",
    "EPOCHS = 20; best = 0\n",
    "for ep in range(1, EPOCHS + 1):\n",
    "    tloss = one_epoch()\n",
    "    f1, _, _ = evaluate(val_loader)\n",
    "    print(f\"Epoch {ep:02d}: loss {tloss:.4f}  val‑F1 {f1:.4f}\")\n",
    "    if f1 > best:\n",
    "        torch.save(model.state_dict(), \"best_passt_emotion.pt\"); best = f1; print(\"📝 new best saved\")\n"
   ]
  },
  {
   "cell_type": "code",
   "execution_count": 9,
   "metadata": {},
   "outputs": [],
   "source": [
    "## Training Parameters"
   ]
  },
  {
   "cell_type": "code",
   "execution_count": 10,
   "metadata": {},
   "outputs": [
    {
     "name": "stdout",
     "output_type": "stream",
     "text": [
      "Test F1 0.5207430970083063\n",
      "              precision    recall  f1-score   support\n",
      "\n",
      "         ANG     0.7158    0.6859    0.7005       191\n",
      "         DIS     0.3726    0.5131    0.4317       191\n",
      "         FEA     0.5058    0.4579    0.4807       190\n",
      "         HAP     0.5372    0.5288    0.5330       191\n",
      "         NEU     0.5111    0.4233    0.4631       163\n",
      "         SAD     0.5284    0.4869    0.5068       191\n",
      "\n",
      "    accuracy                         0.5184      1117\n",
      "   macro avg     0.5285    0.5160    0.5193      1117\n",
      "weighted avg     0.5290    0.5184    0.5207      1117\n",
      "\n"
     ]
    },
    {
     "data": {
      "image/png": "[encoded data removed]",
      "text/plain": [
       "<Figure size 640x480 with 2 Axes>"
      ]
     },
     "metadata": {},
     "output_type": "display_data"
    }
   ],
   "source": [
    "# %% [markdown]\n",
    "# ### 8  Test metrics\n",
    "# %%\n",
    "model.load_state_dict(torch.load(\"best_passt_emotion.pt\",map_location=DEVICE))\n",
    "f1,y_true,y_pred=evaluate(DataLoader(test_ds,batch_size=BATCH,collate_fn=collate))\n",
    "print(\"Test F1\",f1); print(classification_report(y_true,y_pred,target_names=EMOTIONS,digits=4))\n",
    "cm=confusion_matrix(y_true,y_pred)\n",
    "plt.imshow(cm,cmap=\"Blues\");plt.title(\"Confusion\");plt.colorbar();plt.xticks(range(6),EMOTIONS,rotation=45);plt.yticks(range(6),EMOTIONS)\n",
    "for i in range(6):\n",
    "    for j in range(6):\n",
    "        plt.text(j,i,cm[i,j],ha=\"center\",va=\"center\")\n",
    "plt.tight_layout(); plt.show()\n"
   ]
  },
  {
   "cell_type": "code",
   "execution_count": 11,
   "metadata": {},
   "outputs": [],
   "source": [
    "## Training Loop"
   ]
  },
  {
   "cell_type": "code",
   "execution_count": 12,
   "metadata": {},
   "outputs": [],
   "source": [
    "## Evaluation"
   ]
  },
  {
   "cell_type": "code",
   "execution_count": null,
   "metadata": {},
   "outputs": [],
   "source": []
  }
 ],
 "metadata": {
  "accelerator": "GPU",
  "colab": {
   "gpuType": "T4",
   "provenance": []
  },
  "kernelspec": {
   "display_name": "Python 3 (ipykernel)",
   "language": "python",
   "name": "python3"
  },
  "language_info": {
   "codemirror_mode": {
    "name": "ipython",
    "version": 3
   },
   "file_extension": ".py",
   "mimetype": "text/x-python",
   "name": "python",
   "nbconvert_exporter": "python",
   "pygments_lexer": "ipython3",
   "version": "3.9.21"
  }
 },
 "nbformat": 4,
 "nbformat_minor": 4
}
