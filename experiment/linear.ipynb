{
 "cells": [
  {
   "cell_type": "code",
   "execution_count": 1,
   "id": "b907172e-0a23-4aae-9fb2-dc89fac40f38",
   "metadata": {},
   "outputs": [],
   "source": [
    "# Notebook: Finetune PaSST for Emotion Recognition with *pluggable heads*\n",
    "# =============================================================================\n",
    "# Every \"# %%\" is a separate notebook cell.\n",
    "# ▸ Choose the head by UNCOMMENTING one of the `HEAD = ...` lines in the **Config** cell.\n",
    "# ▸ Adjust how many transformer blocks to unfreeze (0‑12).\n",
    "# ▸ Patchout, batch size, etc. are also set in the Config cell.\n",
    "# -----------------------------------------------------------------------------\n",
    "\n",
    "# %% [markdown]\n",
    "# ## 0  Config – tweak these and re‑run the notebook\n",
    "# Uncomment the head you want and the number of blocks to unfreeze.\n",
    "# * `linear`    = default PaSST CLS → logits head (minimal)\n",
    "# * `mlp`       = 2‑layer MLP (LayerNorm‑>ReLU‑>Dropout)\n",
    "# * `attentive` = attentive statistical pooling (mean & std over time tokens)\n",
    "#\n",
    "# VRAM tips:\n",
    "#   • Smaller `BATCH` or larger `ACC_STEPS` reduces memory.\n",
    "#   • Increase `patch_t`/`patch_f` to drop more patches (less VRAM, more reg.).\n",
    "\n",
    "# %%\n",
    "# ---- pick your head ---------------------------------------------------------\n",
    "HEAD = \"linear\"\n",
    "#HEAD = \"mlp\"         # <‑ active choice\n",
    "# HEAD = \"attentive\"\n",
    "\n",
    "UNFREEZE = 2          # number of last transformer blocks to fine‑tune (0‑12)\n",
    "PATCH_T  = 5          # time patches dropped\n",
    "PATCH_F  = 2          # freq patches dropped\n",
    "BATCH    = 2         # per‑step batch size\n",
    "ACC_STEPS = 2         # grad accumulation (effective batch = BATCH*ACC_STEPS)\n",
    "EPOCHS   = 20\n",
    "DATA_DIR = \"/home/vm-user/Documents/lucky/dataset\"     # folder with train/val/test csv+wav\n",
    "SEED     = 42\n"
   ]
  },
  {
   "cell_type": "code",
   "execution_count": 2,
   "id": "e1625de3-2da7-43e3-ba1d-b741a48ed272",
   "metadata": {},
   "outputs": [
    {
     "name": "stderr",
     "output_type": "stream",
     "text": [
      "/home/vm-user/anaconda3/envs/passt/lib/python3.8/site-packages/tqdm/auto.py:21: TqdmWarning: IProgress not found. Please update jupyter and ipywidgets. See https://ipywidgets.readthedocs.io/en/stable/user_install.html\n",
      "  from .autonotebook import tqdm as notebook_tqdm\n"
     ]
    }
   ],
   "source": [
    "# %% [markdown]\n",
    "# ## 1  Imports\n",
    "# Everything you need is here. Install missing packages with pip if necessary.\n",
    "\n",
    "# %%\n",
    "import os, random, csv\n",
    "from pathlib import Path\n",
    "from typing import List, Tuple\n",
    "\n",
    "import numpy as np\n",
    "import matplotlib.pyplot as plt\n",
    "\n",
    "import torch, torchaudio, soundfile as sf\n",
    "import torch.nn as nn\n",
    "import torch.nn.functional as F\n",
    "import torchaudio.transforms as T\n",
    "from torch.utils.data import Dataset, DataLoader\n",
    "\n",
    "from torch import amp\n",
    "from torch.amp import autocast\n",
    "from tqdm.auto import tqdm\n",
    "\n",
    "from sklearn.metrics import f1_score, confusion_matrix, classification_report\n",
    "\n",
    "from hear21passt.base import get_model_passt\n",
    "import hear21passt.models.passt as passt_module\n",
    "passt_module.first_RUN = False  # silence PaSST debug prints\n",
    "\n",
    "torch.backends.cudnn.benchmark = True\n"
   ]
  },
  {
   "cell_type": "code",
   "execution_count": 3,
   "id": "fe58664c-86bf-4927-83e1-f6cab87bdc8b",
   "metadata": {},
   "outputs": [
    {
     "name": "stdout",
     "output_type": "stream",
     "text": [
      "Using cuda\n"
     ]
    }
   ],
   "source": [
    "# %% [markdown]\n",
    "# ## 2  Utility & constants\n",
    "\n",
    "# %%\n",
    "EMOTIONS = [\"ANG\", \"DIS\", \"FEA\", \"HAP\", \"NEU\", \"SAD\"]\n",
    "LABEL_MAP = {e: i for i, e in enumerate(EMOTIONS)}\n",
    "TARGET_SR  = 32_000\n",
    "NUM_SAMPLES = 1024 + (998 - 1) * 320  # 10.0 s @ 32 kHz\n",
    "DEVICE = torch.device(\"cuda\" if torch.cuda.is_available() else \"cpu\")\n",
    "print(\"Using\", DEVICE)\n",
    "\n",
    "random.seed(SEED); np.random.seed(SEED)\n",
    "torch.manual_seed(SEED); torch.cuda.manual_seed_all(SEED)\n"
   ]
  },
  {
   "cell_type": "code",
   "execution_count": 4,
   "id": "1ceec0ca-96c6-426f-857c-f412e3562765",
   "metadata": {},
   "outputs": [],
   "source": [
    "# %% [markdown]\n",
    "# ## 3  Dataset → log‑mel spectrograms\n",
    "\n",
    "# %%\n",
    "class EmotionDataset(Dataset):\n",
    "    def __init__(self, csv_path: Path, root: Path, augment: bool = False):\n",
    "        self.records: List[Tuple[Path, int]] = []\n",
    "        with open(csv_path, newline=\"\") as f:\n",
    "            for row in csv.DictReader(f):\n",
    "                emo = row[\"emotion\"].strip().upper(); fn = row[\"filename\"].strip()\n",
    "                if emo in LABEL_MAP:\n",
    "                    self.records.append((root / fn, LABEL_MAP[emo]))\n",
    "        if not self.records:\n",
    "            raise ValueError(f\"CSV {csv_path} has no usable rows!\")\n",
    "        self.augment = augment\n",
    "        self.resample = T.Resample(TARGET_SR, TARGET_SR)\n",
    "        self.mel  = T.MelSpectrogram(sample_rate=TARGET_SR, n_fft=1024, hop_length=320,\n",
    "                                     n_mels=128, center=False)\n",
    "        self.db   = T.AmplitudeToDB(\"power\")\n",
    "        self.pitch = lambda w: T.PitchShift(TARGET_SR, n_steps=random.uniform(-2, 2))(w)\n",
    "        self.gain  = lambda w: T.Vol(gain=random.uniform(-6, 6), gain_type=\"db\")(w)\n",
    "\n",
    "    def __len__(self):\n",
    "        return len(self.records)\n",
    "\n",
    "    def _augment(self, w):\n",
    "        if random.random() < 0.5:\n",
    "            w += torch.randn_like(w) * 0.005\n",
    "        if random.random() < 0.3:\n",
    "            w = self.gain(w)\n",
    "        if random.random() < 0.2:\n",
    "            w = self.pitch(w)\n",
    "        return w\n",
    "\n",
    "    def __getitem__(self, idx):\n",
    "        path, label = self.records[idx]\n",
    "        try:\n",
    "            w, sr = torchaudio.load(path)\n",
    "        except RuntimeError:\n",
    "            wav_np, sr = sf.read(path, always_2d=False)\n",
    "            if wav_np.ndim == 1:\n",
    "                wav_np = wav_np[None, :]\n",
    "            w = torch.from_numpy(wav_np).float()\n",
    "        if w.shape[0] > 1:\n",
    "            w = w.mean(0, keepdim=True)\n",
    "        if sr != TARGET_SR:\n",
    "            w = self.resample(w)\n",
    "        if self.augment:\n",
    "            w = self._augment(w)\n",
    "        w = (w - w.mean()) / (w.std() + 1e-9)\n",
    "        mel = self.db(self.mel(w)).clamp(min=-80.0)\n",
    "        mel = F.pad(mel, (0, max(0, 998 - mel.shape[2])))[:, :, :998]\n",
    "        return mel, label\n"
   ]
  },
  {
   "cell_type": "code",
   "execution_count": 5,
   "id": "b7447d7d-4825-482d-83f6-b7cba54e5999",
   "metadata": {},
   "outputs": [
    {
     "name": "stdout",
     "output_type": "stream",
     "text": [
      "5209 train • 1116 val • 1117 test\n"
     ]
    }
   ],
   "source": [
    "# %% [markdown]\n",
    "# ## 4  Create dataloaders\n",
    "\n",
    "# %%\n",
    "root = Path(DATA_DIR)\n",
    "train_ds = EmotionDataset(root / \"train.csv\", root / \"train\", augment=True)\n",
    "val_ds   = EmotionDataset(root / \"val.csv\",   root / \"val\")\n",
    "test_ds  = EmotionDataset(root / \"test.csv\",  root / \"test\")\n",
    "\n",
    "collate = lambda b: (torch.stack([x for x,_ in b]), torch.tensor([y for _,y in b]))\n",
    "train_loader = DataLoader(train_ds, BATCH, True,  drop_last=True, pin_memory=True, collate_fn=collate)\n",
    "val_loader   = DataLoader(val_ds,   BATCH, False, pin_memory=True, collate_fn=collate)\n",
    "print(len(train_ds), \"train •\", len(val_ds), \"val •\", len(test_ds), \"test\")\n"
   ]
  },
  {
   "cell_type": "code",
   "execution_count": 6,
   "id": "c2b28ad1-c504-4762-b7cd-0620024ecd01",
   "metadata": {},
   "outputs": [
    {
     "name": "stdout",
     "output_type": "stream",
     "text": [
      "\n",
      "\n",
      " Loading PASST TRAINED ON AUDISET \n",
      "\n",
      "\n"
     ]
    },
    {
     "name": "stderr",
     "output_type": "stream",
     "text": [
      "/home/vm-user/anaconda3/envs/passt/lib/python3.8/site-packages/hear21passt/models/helpers/vit_helpers.py:93: FutureWarning: You are using `torch.load` with `weights_only=False` (the current default value), which uses the default pickle module implicitly. It is possible to construct malicious pickle data which will execute arbitrary code during unpickling (See https://github.com/pytorch/pytorch/blob/main/SECURITY.md#untrusted-models for more details). In a future release, the default value for `weights_only` will be flipped to `True`. This limits the functions that could be executed during unpickling. Arbitrary objects will no longer be allowed to be loaded via this mode unless they are explicitly allowlisted by the user via `torch.serialization.add_safe_globals`. We recommend you start setting `weights_only=True` for any use case where you don't have full control of the loaded file. Please open an issue on GitHub for any issues related to this experimental feature.\n",
      "  state_dict = torch.load(pretrained_loc, map_location=\"cpu\")\n"
     ]
    },
    {
     "name": "stdout",
     "output_type": "stream",
     "text": [
      "PaSST(\n",
      "  (patch_embed): PatchEmbed(\n",
      "    (proj): Conv2d(1, 768, kernel_size=(16, 16), stride=(10, 10))\n",
      "    (norm): Identity()\n",
      "  )\n",
      "  (pos_drop): Dropout(p=0.0, inplace=False)\n",
      "  (blocks): Sequential(\n",
      "    (0): Block(\n",
      "      (norm1): LayerNorm((768,), eps=1e-06, elementwise_affine=True)\n",
      "      (attn): Attention(\n",
      "        (qkv): Linear(in_features=768, out_features=2304, bias=True)\n",
      "        (attn_drop): Dropout(p=0.0, inplace=False)\n",
      "        (proj): Linear(in_features=768, out_features=768, bias=True)\n",
      "        (proj_drop): Dropout(p=0.0, inplace=False)\n",
      "      )\n",
      "      (drop_path): Identity()\n",
      "      (norm2): LayerNorm((768,), eps=1e-06, elementwise_affine=True)\n",
      "      (mlp): Mlp(\n",
      "        (fc1): Linear(in_features=768, out_features=3072, bias=True)\n",
      "        (act): GELU(approximate='none')\n",
      "        (fc2): Linear(in_features=3072, out_features=768, bias=True)\n",
      "        (drop): Dropout(p=0.0, inplace=False)\n",
      "      )\n",
      "    )\n",
      "    (1): Block(\n",
      "      (norm1): LayerNorm((768,), eps=1e-06, elementwise_affine=True)\n",
      "      (attn): Attention(\n",
      "        (qkv): Linear(in_features=768, out_features=2304, bias=True)\n",
      "        (attn_drop): Dropout(p=0.0, inplace=False)\n",
      "        (proj): Linear(in_features=768, out_features=768, bias=True)\n",
      "        (proj_drop): Dropout(p=0.0, inplace=False)\n",
      "      )\n",
      "      (drop_path): Identity()\n",
      "      (norm2): LayerNorm((768,), eps=1e-06, elementwise_affine=True)\n",
      "      (mlp): Mlp(\n",
      "        (fc1): Linear(in_features=768, out_features=3072, bias=True)\n",
      "        (act): GELU(approximate='none')\n",
      "        (fc2): Linear(in_features=3072, out_features=768, bias=True)\n",
      "        (drop): Dropout(p=0.0, inplace=False)\n",
      "      )\n",
      "    )\n",
      "    (2): Block(\n",
      "      (norm1): LayerNorm((768,), eps=1e-06, elementwise_affine=True)\n",
      "      (attn): Attention(\n",
      "        (qkv): Linear(in_features=768, out_features=2304, bias=True)\n",
      "        (attn_drop): Dropout(p=0.0, inplace=False)\n",
      "        (proj): Linear(in_features=768, out_features=768, bias=True)\n",
      "        (proj_drop): Dropout(p=0.0, inplace=False)\n",
      "      )\n",
      "      (drop_path): Identity()\n",
      "      (norm2): LayerNorm((768,), eps=1e-06, elementwise_affine=True)\n",
      "      (mlp): Mlp(\n",
      "        (fc1): Linear(in_features=768, out_features=3072, bias=True)\n",
      "        (act): GELU(approximate='none')\n",
      "        (fc2): Linear(in_features=3072, out_features=768, bias=True)\n",
      "        (drop): Dropout(p=0.0, inplace=False)\n",
      "      )\n",
      "    )\n",
      "    (3): Block(\n",
      "      (norm1): LayerNorm((768,), eps=1e-06, elementwise_affine=True)\n",
      "      (attn): Attention(\n",
      "        (qkv): Linear(in_features=768, out_features=2304, bias=True)\n",
      "        (attn_drop): Dropout(p=0.0, inplace=False)\n",
      "        (proj): Linear(in_features=768, out_features=768, bias=True)\n",
      "        (proj_drop): Dropout(p=0.0, inplace=False)\n",
      "      )\n",
      "      (drop_path): Identity()\n",
      "      (norm2): LayerNorm((768,), eps=1e-06, elementwise_affine=True)\n",
      "      (mlp): Mlp(\n",
      "        (fc1): Linear(in_features=768, out_features=3072, bias=True)\n",
      "        (act): GELU(approximate='none')\n",
      "        (fc2): Linear(in_features=3072, out_features=768, bias=True)\n",
      "        (drop): Dropout(p=0.0, inplace=False)\n",
      "      )\n",
      "    )\n",
      "    (4): Block(\n",
      "      (norm1): LayerNorm((768,), eps=1e-06, elementwise_affine=True)\n",
      "      (attn): Attention(\n",
      "        (qkv): Linear(in_features=768, out_features=2304, bias=True)\n",
      "        (attn_drop): Dropout(p=0.0, inplace=False)\n",
      "        (proj): Linear(in_features=768, out_features=768, bias=True)\n",
      "        (proj_drop): Dropout(p=0.0, inplace=False)\n",
      "      )\n",
      "      (drop_path): Identity()\n",
      "      (norm2): LayerNorm((768,), eps=1e-06, elementwise_affine=True)\n",
      "      (mlp): Mlp(\n",
      "        (fc1): Linear(in_features=768, out_features=3072, bias=True)\n",
      "        (act): GELU(approximate='none')\n",
      "        (fc2): Linear(in_features=3072, out_features=768, bias=True)\n",
      "        (drop): Dropout(p=0.0, inplace=False)\n",
      "      )\n",
      "    )\n",
      "    (5): Block(\n",
      "      (norm1): LayerNorm((768,), eps=1e-06, elementwise_affine=True)\n",
      "      (attn): Attention(\n",
      "        (qkv): Linear(in_features=768, out_features=2304, bias=True)\n",
      "        (attn_drop): Dropout(p=0.0, inplace=False)\n",
      "        (proj): Linear(in_features=768, out_features=768, bias=True)\n",
      "        (proj_drop): Dropout(p=0.0, inplace=False)\n",
      "      )\n",
      "      (drop_path): Identity()\n",
      "      (norm2): LayerNorm((768,), eps=1e-06, elementwise_affine=True)\n",
      "      (mlp): Mlp(\n",
      "        (fc1): Linear(in_features=768, out_features=3072, bias=True)\n",
      "        (act): GELU(approximate='none')\n",
      "        (fc2): Linear(in_features=3072, out_features=768, bias=True)\n",
      "        (drop): Dropout(p=0.0, inplace=False)\n",
      "      )\n",
      "    )\n",
      "    (6): Block(\n",
      "      (norm1): LayerNorm((768,), eps=1e-06, elementwise_affine=True)\n",
      "      (attn): Attention(\n",
      "        (qkv): Linear(in_features=768, out_features=2304, bias=True)\n",
      "        (attn_drop): Dropout(p=0.0, inplace=False)\n",
      "        (proj): Linear(in_features=768, out_features=768, bias=True)\n",
      "        (proj_drop): Dropout(p=0.0, inplace=False)\n",
      "      )\n",
      "      (drop_path): Identity()\n",
      "      (norm2): LayerNorm((768,), eps=1e-06, elementwise_affine=True)\n",
      "      (mlp): Mlp(\n",
      "        (fc1): Linear(in_features=768, out_features=3072, bias=True)\n",
      "        (act): GELU(approximate='none')\n",
      "        (fc2): Linear(in_features=3072, out_features=768, bias=True)\n",
      "        (drop): Dropout(p=0.0, inplace=False)\n",
      "      )\n",
      "    )\n",
      "    (7): Block(\n",
      "      (norm1): LayerNorm((768,), eps=1e-06, elementwise_affine=True)\n",
      "      (attn): Attention(\n",
      "        (qkv): Linear(in_features=768, out_features=2304, bias=True)\n",
      "        (attn_drop): Dropout(p=0.0, inplace=False)\n",
      "        (proj): Linear(in_features=768, out_features=768, bias=True)\n",
      "        (proj_drop): Dropout(p=0.0, inplace=False)\n",
      "      )\n",
      "      (drop_path): Identity()\n",
      "      (norm2): LayerNorm((768,), eps=1e-06, elementwise_affine=True)\n",
      "      (mlp): Mlp(\n",
      "        (fc1): Linear(in_features=768, out_features=3072, bias=True)\n",
      "        (act): GELU(approximate='none')\n",
      "        (fc2): Linear(in_features=3072, out_features=768, bias=True)\n",
      "        (drop): Dropout(p=0.0, inplace=False)\n",
      "      )\n",
      "    )\n",
      "    (8): Block(\n",
      "      (norm1): LayerNorm((768,), eps=1e-06, elementwise_affine=True)\n",
      "      (attn): Attention(\n",
      "        (qkv): Linear(in_features=768, out_features=2304, bias=True)\n",
      "        (attn_drop): Dropout(p=0.0, inplace=False)\n",
      "        (proj): Linear(in_features=768, out_features=768, bias=True)\n",
      "        (proj_drop): Dropout(p=0.0, inplace=False)\n",
      "      )\n",
      "      (drop_path): Identity()\n",
      "      (norm2): LayerNorm((768,), eps=1e-06, elementwise_affine=True)\n",
      "      (mlp): Mlp(\n",
      "        (fc1): Linear(in_features=768, out_features=3072, bias=True)\n",
      "        (act): GELU(approximate='none')\n",
      "        (fc2): Linear(in_features=3072, out_features=768, bias=True)\n",
      "        (drop): Dropout(p=0.0, inplace=False)\n",
      "      )\n",
      "    )\n",
      "    (9): Block(\n",
      "      (norm1): LayerNorm((768,), eps=1e-06, elementwise_affine=True)\n",
      "      (attn): Attention(\n",
      "        (qkv): Linear(in_features=768, out_features=2304, bias=True)\n",
      "        (attn_drop): Dropout(p=0.0, inplace=False)\n",
      "        (proj): Linear(in_features=768, out_features=768, bias=True)\n",
      "        (proj_drop): Dropout(p=0.0, inplace=False)\n",
      "      )\n",
      "      (drop_path): Identity()\n",
      "      (norm2): LayerNorm((768,), eps=1e-06, elementwise_affine=True)\n",
      "      (mlp): Mlp(\n",
      "        (fc1): Linear(in_features=768, out_features=3072, bias=True)\n",
      "        (act): GELU(approximate='none')\n",
      "        (fc2): Linear(in_features=3072, out_features=768, bias=True)\n",
      "        (drop): Dropout(p=0.0, inplace=False)\n",
      "      )\n",
      "    )\n",
      "    (10): Block(\n",
      "      (norm1): LayerNorm((768,), eps=1e-06, elementwise_affine=True)\n",
      "      (attn): Attention(\n",
      "        (qkv): Linear(in_features=768, out_features=2304, bias=True)\n",
      "        (attn_drop): Dropout(p=0.0, inplace=False)\n",
      "        (proj): Linear(in_features=768, out_features=768, bias=True)\n",
      "        (proj_drop): Dropout(p=0.0, inplace=False)\n",
      "      )\n",
      "      (drop_path): Identity()\n",
      "      (norm2): LayerNorm((768,), eps=1e-06, elementwise_affine=True)\n",
      "      (mlp): Mlp(\n",
      "        (fc1): Linear(in_features=768, out_features=3072, bias=True)\n",
      "        (act): GELU(approximate='none')\n",
      "        (fc2): Linear(in_features=3072, out_features=768, bias=True)\n",
      "        (drop): Dropout(p=0.0, inplace=False)\n",
      "      )\n",
      "    )\n",
      "    (11): Block(\n",
      "      (norm1): LayerNorm((768,), eps=1e-06, elementwise_affine=True)\n",
      "      (attn): Attention(\n",
      "        (qkv): Linear(in_features=768, out_features=2304, bias=True)\n",
      "        (attn_drop): Dropout(p=0.0, inplace=False)\n",
      "        (proj): Linear(in_features=768, out_features=768, bias=True)\n",
      "        (proj_drop): Dropout(p=0.0, inplace=False)\n",
      "      )\n",
      "      (drop_path): Identity()\n",
      "      (norm2): LayerNorm((768,), eps=1e-06, elementwise_affine=True)\n",
      "      (mlp): Mlp(\n",
      "        (fc1): Linear(in_features=768, out_features=3072, bias=True)\n",
      "        (act): GELU(approximate='none')\n",
      "        (fc2): Linear(in_features=3072, out_features=768, bias=True)\n",
      "        (drop): Dropout(p=0.0, inplace=False)\n",
      "      )\n",
      "    )\n",
      "  )\n",
      "  (norm): LayerNorm((768,), eps=1e-06, elementwise_affine=True)\n",
      "  (pre_logits): Identity()\n",
      "  (head): Sequential(\n",
      "    (0): LayerNorm((768,), eps=1e-05, elementwise_affine=True)\n",
      "    (1): Linear(in_features=768, out_features=6, bias=True)\n",
      "  )\n",
      "  (head_dist): Linear(in_features=768, out_features=6, bias=True)\n",
      ")\n",
      "Trainable params: 14.175744 M\n"
     ]
    }
   ],
   "source": [
    "# %% [markdown]\n",
    "# ## 5  Build model + choose head\n",
    "\n",
    "# %%\n",
    "# --- head implementations ----------------------------------------------------\n",
    "class MLPHead(nn.Module):\n",
    "    def __init__(self, d_out):\n",
    "        super().__init__()\n",
    "        self.seq = nn.Sequential(\n",
    "            nn.LayerNorm(768), nn.Linear(768, 256), nn.ReLU(), nn.Dropout(0.3), nn.Linear(256, d_out)\n",
    "        )\n",
    "    def forward(self, x):\n",
    "        return self.seq(x)\n",
    "\n",
    "class AttentivePool(nn.Module):\n",
    "    def __init__(self, d):\n",
    "        super().__init__(); self.att = nn.Sequential(nn.Linear(d, 128), nn.Tanh(), nn.Linear(128, 1))\n",
    "    def forward(self, tok):\n",
    "        w = torch.softmax(self.att(tok), dim=1)\n",
    "        mu = (w * tok).sum(1)\n",
    "        var = (w * (tok - mu.unsqueeze(1))**2).sum(1)\n",
    "        return torch.cat([mu, var.sqrt()], 1)\n",
    "\n",
    "def apply_head(model, head_type):\n",
    "    if head_type == \"linear\":\n",
    "        return model\n",
    "    if head_type == \"mlp\":\n",
    "        model.mlp_head = MLPHead(len(EMOTIONS)).to(DEVICE); return model\n",
    "    if head_type == \"attentive\":\n",
    "        old_ff = model.forward_features\n",
    "        def new_ff(x):\n",
    "            tok = old_ff(x)           # (B, T, 768)\n",
    "            return AttentivePool(768).to(DEVICE)(tok)\n",
    "        model.forward_features = new_ff\n",
    "        model.mlp_head = nn.Linear(768*2, len(EMOTIONS)).to(DEVICE); return model\n",
    "    raise ValueError(head_type)\n",
    "\n",
    "model = get_model_passt(\"passt_s_swa_p16_128_ap476\", pretrained=True, n_classes=len(EMOTIONS)).to(DEVICE)\n",
    "model = apply_head(model, HEAD)\n",
    "\n",
    "# unfreeze selected blocks + head\n",
    "for n, p in model.named_parameters():\n",
    "    train_it = n.startswith(\"mlp_head\") or any(n.startswith(f\"blocks.{i}\") for i in range(12-UNFREEZE, 12))\n",
    "    p.requires_grad = train_it\n",
    "print(\"Trainable params:\", sum(p.numel() for p in model.parameters() if p.requires_grad)/1e6, \"M\")\n",
    "\n",
    "# Patchout for memory & regularisation\n",
    "model.train_patchout = True\n",
    "model.train_patchout_t = PATCH_T\n",
    "model.train_patchout_f = PATCH_F\n",
    "\n",
    "# Criterion, optimiser, AMP scaler\n",
    "criterion = nn.CrossEntropyLoss()\n",
    "optimizer = torch.optim.AdamW(filter(lambda p: p.requires_grad, model.parameters()), lr=3e-5, weight_decay=1e-2)\n",
    "scaler = amp.GradScaler(device=\"cuda\")\n"
   ]
  },
  {
   "cell_type": "code",
   "execution_count": 7,
   "id": "7694e2dd-a668-4d68-808b-74c49096b0e8",
   "metadata": {},
   "outputs": [],
   "source": [
    "# %% [markdown]\n",
    "# ## 6  Training & validation helpers\n",
    "\n",
    "# %%\n",
    "\n",
    "def train_one_epoch():\n",
    "    model.train(); optimizer.zero_grad(); running = 0\n",
    "    for i, (xb, yb) in enumerate(tqdm(train_loader, leave=False)):\n",
    "        xb, yb = xb.to(DEVICE), yb.to(DEVICE)\n",
    "        with autocast(device_type=\"cuda\"):\n",
    "            logits = model(xb)\n",
    "            logits = logits[0] if isinstance(logits, tuple) else logits\n",
    "            loss = criterion(logits, yb) / ACC_STEPS\n",
    "        scaler.scale(loss).backward()\n",
    "        if (i + 1) % ACC_STEPS == 0:\n",
    "            scaler.step(optimizer); scaler.update(); optimizer.zero_grad()\n",
    "        running += loss.item() * ACC_STEPS * xb.size(0)\n",
    "    return running / len(train_loader.dataset)\n",
    "\n",
    "\n",
    "def evaluate(loader):\n",
    "    model.eval(); y_true, y_pred = [], []\n",
    "    with torch.no_grad(), autocast(device_type=\"cuda\"):\n",
    "        for xb, yb in loader:\n",
    "            logits = model(xb.to(DEVICE))\n",
    "            logits = logits[0] if isinstance(logits, tuple) else logits\n",
    "            preds = logits.argmax(1).cpu()\n",
    "            y_true.extend(yb.tolist()); y_pred.extend(preds)\n",
    "    f1 = f1_score(y_true, y_pred, average=\"weighted\")\n",
    "    return f1, y_true, y_pred"
   ]
  },
  {
   "cell_type": "code",
   "execution_count": 8,
   "id": "18146044-e493-4059-ab56-732a92ff086a",
   "metadata": {},
   "outputs": [
    {
     "name": "stderr",
     "output_type": "stream",
     "text": [
      "                                                       \r"
     ]
    },
    {
     "name": "stdout",
     "output_type": "stream",
     "text": [
      "Epoch 01: loss 1.5036 • val F1 0.4077\n",
      "☑️  New best saved\n"
     ]
    },
    {
     "name": "stderr",
     "output_type": "stream",
     "text": [
      "                                                        \r"
     ]
    },
    {
     "name": "stdout",
     "output_type": "stream",
     "text": [
      "Epoch 02: loss 1.3696 • val F1 0.4233\n",
      "☑️  New best saved\n"
     ]
    },
    {
     "name": "stderr",
     "output_type": "stream",
     "text": [
      "                                                       \r"
     ]
    },
    {
     "name": "stdout",
     "output_type": "stream",
     "text": [
      "Epoch 03: loss 1.2875 • val F1 0.4445\n",
      "☑️  New best saved\n"
     ]
    },
    {
     "name": "stderr",
     "output_type": "stream",
     "text": [
      "                                                       \r"
     ]
    },
    {
     "name": "stdout",
     "output_type": "stream",
     "text": [
      "Epoch 04: loss 1.2240 • val F1 0.4580\n",
      "☑️  New best saved\n"
     ]
    },
    {
     "name": "stderr",
     "output_type": "stream",
     "text": [
      "                                                       \r"
     ]
    },
    {
     "name": "stdout",
     "output_type": "stream",
     "text": [
      "Epoch 05: loss 1.1590 • val F1 0.5119\n",
      "☑️  New best saved\n"
     ]
    },
    {
     "name": "stderr",
     "output_type": "stream",
     "text": [
      "                                                       \r"
     ]
    },
    {
     "name": "stdout",
     "output_type": "stream",
     "text": [
      "Epoch 06: loss 1.0896 • val F1 0.5133\n",
      "☑️  New best saved\n"
     ]
    },
    {
     "name": "stderr",
     "output_type": "stream",
     "text": [
      "                                                       \r"
     ]
    },
    {
     "name": "stdout",
     "output_type": "stream",
     "text": [
      "Epoch 07: loss 1.0253 • val F1 0.4935\n"
     ]
    },
    {
     "name": "stderr",
     "output_type": "stream",
     "text": [
      "                                                        \r"
     ]
    },
    {
     "name": "stdout",
     "output_type": "stream",
     "text": [
      "Epoch 08: loss 0.9582 • val F1 0.5069\n"
     ]
    },
    {
     "name": "stderr",
     "output_type": "stream",
     "text": [
      "                                                       \r"
     ]
    },
    {
     "name": "stdout",
     "output_type": "stream",
     "text": [
      "Epoch 09: loss 0.8931 • val F1 0.5104\n"
     ]
    },
    {
     "name": "stderr",
     "output_type": "stream",
     "text": [
      "                                                       \r"
     ]
    },
    {
     "name": "stdout",
     "output_type": "stream",
     "text": [
      "Epoch 10: loss 0.8080 • val F1 0.4947\n"
     ]
    },
    {
     "name": "stderr",
     "output_type": "stream",
     "text": [
      "                                                       \r"
     ]
    },
    {
     "name": "stdout",
     "output_type": "stream",
     "text": [
      "Epoch 11: loss 0.7572 • val F1 0.5182\n",
      "☑️  New best saved\n"
     ]
    },
    {
     "name": "stderr",
     "output_type": "stream",
     "text": [
      "                                                       \r"
     ]
    },
    {
     "name": "stdout",
     "output_type": "stream",
     "text": [
      "Epoch 12: loss 0.6855 • val F1 0.5200\n",
      "☑️  New best saved\n"
     ]
    },
    {
     "name": "stderr",
     "output_type": "stream",
     "text": [
      "                                                       \r"
     ]
    },
    {
     "name": "stdout",
     "output_type": "stream",
     "text": [
      "Epoch 13: loss 0.6571 • val F1 0.5100\n"
     ]
    },
    {
     "name": "stderr",
     "output_type": "stream",
     "text": [
      "                                                       \r"
     ]
    },
    {
     "name": "stdout",
     "output_type": "stream",
     "text": [
      "Epoch 14: loss 0.6042 • val F1 0.5050\n"
     ]
    },
    {
     "name": "stderr",
     "output_type": "stream",
     "text": [
      "                                                       \r"
     ]
    },
    {
     "name": "stdout",
     "output_type": "stream",
     "text": [
      "Epoch 15: loss 0.5464 • val F1 0.4928\n"
     ]
    },
    {
     "name": "stderr",
     "output_type": "stream",
     "text": [
      "                                                       \r"
     ]
    },
    {
     "name": "stdout",
     "output_type": "stream",
     "text": [
      "Epoch 16: loss 0.5135 • val F1 0.5006\n"
     ]
    },
    {
     "name": "stderr",
     "output_type": "stream",
     "text": [
      "                                                       \r"
     ]
    },
    {
     "name": "stdout",
     "output_type": "stream",
     "text": [
      "Epoch 17: loss 0.4776 • val F1 0.5040\n"
     ]
    },
    {
     "name": "stderr",
     "output_type": "stream",
     "text": [
      "                                                       \r"
     ]
    },
    {
     "name": "stdout",
     "output_type": "stream",
     "text": [
      "Epoch 18: loss 0.4335 • val F1 0.4854\n"
     ]
    },
    {
     "name": "stderr",
     "output_type": "stream",
     "text": [
      "                                                       \r"
     ]
    },
    {
     "name": "stdout",
     "output_type": "stream",
     "text": [
      "Epoch 19: loss 0.4119 • val F1 0.4849\n"
     ]
    },
    {
     "name": "stderr",
     "output_type": "stream",
     "text": [
      "                                                       \r"
     ]
    },
    {
     "name": "stdout",
     "output_type": "stream",
     "text": [
      "Epoch 20: loss 0.3894 • val F1 0.5050\n"
     ]
    }
   ],
   "source": [
    "# %% [markdown]\n",
    "# ## 7  Run training loop\n",
    "\n",
    "# %%\n",
    "best_f1 = 0\n",
    "for epoch in range(1, EPOCHS + 1):\n",
    "    train_loss = train_one_epoch()\n",
    "    val_f1, _, _ = evaluate(val_loader)\n",
    "    print(f\"Epoch {epoch:02d}: loss {train_loss:.4f} • val F1 {val_f1:.4f}\")\n",
    "    if val_f1 > best_f1:\n",
    "        torch.save(model.state_dict(), \"best_passt.pt\"); best_f1 = val_f1\n",
    "        print(\"☑️  New best saved\")\n"
   ]
  },
  {
   "cell_type": "code",
   "execution_count": 9,
   "id": "bd481a5f-c5b2-4055-b4e8-f637f73f856b",
   "metadata": {},
   "outputs": [
    {
     "name": "stdout",
     "output_type": "stream",
     "text": [
      "➡️  Evaluating best checkpoint …\n"
     ]
    },
    {
     "name": "stderr",
     "output_type": "stream",
     "text": [
      "/tmp/ipykernel_3556616/3146340663.py:7: FutureWarning: You are using `torch.load` with `weights_only=False` (the current default value), which uses the default pickle module implicitly. It is possible to construct malicious pickle data which will execute arbitrary code during unpickling (See https://github.com/pytorch/pytorch/blob/main/SECURITY.md#untrusted-models for more details). In a future release, the default value for `weights_only` will be flipped to `True`. This limits the functions that could be executed during unpickling. Arbitrary objects will no longer be allowed to be loaded via this mode unless they are explicitly allowlisted by the user via `torch.serialization.add_safe_globals`. We recommend you start setting `weights_only=True` for any use case where you don't have full control of the loaded file. Please open an issue on GitHub for any issues related to this experimental feature.\n",
      "  model.load_state_dict(torch.load(\"best_passt.pt\", map_location=DEVICE))\n"
     ]
    },
    {
     "name": "stdout",
     "output_type": "stream",
     "text": [
      "Test classification report:               precision    recall  f1-score   support\n",
      "\n",
      "         ANG     0.7432    0.7120    0.7273       191\n",
      "         DIS     0.4724    0.4031    0.4350       191\n",
      "         FEA     0.4957    0.3053    0.3779       190\n",
      "         HAP     0.4779    0.5654    0.5180       191\n",
      "         NEU     0.4502    0.5828    0.5080       163\n",
      "         SAD     0.4793    0.5445    0.5098       191\n",
      "\n",
      "    accuracy                         0.5175      1117\n",
      "   macro avg     0.5198    0.5189    0.5127      1117\n",
      "weighted avg     0.5215    0.5175    0.5129      1117\n",
      "\n"
     ]
    },
    {
     "data": {
      "image/png": "[encoded data removed]",
      "text/plain": [
       "<Figure size 500x400 with 1 Axes>"
      ]
     },
     "metadata": {},
     "output_type": "display_data"
    },
    {
     "name": "stdout",
     "output_type": "stream",
     "text": [
      "Model size (parameters + buffers): 341.41 MB\n",
      "Average inference time per sample: 18.47 ms (over 200 runs)\n",
      "Model size on disk (approx.): 341.41 MB\n",
      "Average inference time per sample: 18.50 ms over 200 samples\n"
     ]
    }
   ],
   "source": [
    "# %% [markdown]\n",
    "# ## 8  Load best model, test metrics, **model size**, and **inference time**\n",
    "\n",
    "# %%\n",
    "import time\n",
    "\n",
    "model.load_state_dict(torch.load(\"best_passt.pt\", map_location=DEVICE))\n",
    "model.eval()\n",
    "\n",
    "# -- test F1 & confusion matrix ------------------------------------------------\n",
    "print(\"➡️  Evaluating best checkpoint …\")\n",
    "\n",
    "\n",
    "test_f1, y_true, y_pred = evaluate(DataLoader(test_ds, batch_size=BATCH, collate_fn=collate))\n",
    "print(\"Test classification report:\", classification_report(y_true, y_pred, target_names=EMOTIONS, digits=4))\n",
    "\n",
    "cm = confusion_matrix(y_true, y_pred)\n",
    "plt.figure(figsize=(5, 4))\n",
    "plt.imshow(cm, cmap=\"Blues\"); plt.title(\"Confusion Matrix\")\n",
    "plt.xticks(range(len(EMOTIONS)), EMOTIONS, rotation=45)\n",
    "plt.yticks(range(len(EMOTIONS)), EMOTIONS)\n",
    "for i in range(cm.shape[0]):\n",
    "    for j in range(cm.shape[1]):\n",
    "        plt.text(j, i, cm[i, j], ha=\"center\", va=\"center\")\n",
    "plt.tight_layout(); plt.show()\n",
    "\n",
    "# -- model size in MB ---------------------------------------------------------\n",
    "param_bytes  = sum(p.numel() * p.element_size() for p in model.parameters())\n",
    "buffer_bytes = sum(b.numel() * b.element_size() for b in model.buffers())\n",
    "model_size_mb = (param_bytes + buffer_bytes) / 1e6\n",
    "print(f\"Model size (parameters + buffers): {model_size_mb:.2f} MB\")\n",
    "\n",
    "# -- average inference time per sample ---------------------------------------\n",
    "N_BENCH = 200  # number of samples to time\n",
    "bench_loader = DataLoader(test_ds, batch_size=1, collate_fn=collate)\n",
    "start = time.time(); n = 0\n",
    "with torch.no_grad(), autocast(device_type=\"cuda\"):\n",
    "    for xb, _ in bench_loader:\n",
    "        _ = model(xb.to(DEVICE))\n",
    "        n += 1\n",
    "        if n >= N_BENCH:\n",
    "            break\n",
    "end = time.time()\n",
    "avg_ms = (end - start) / n * 1000\n",
    "print(f\"Average inference time per sample: {avg_ms:.2f} ms (over {n} runs)\")\n",
    "\n",
    "# -- end notebook ------------------------------------------------------------- in MB ----------------------------------------------------------\n",
    "param_bytes  = sum(p.numel() * p.element_size() for p in model.parameters())\n",
    "buffer_bytes = sum(b.numel() * b.element_size() for b in model.buffers())\n",
    "model_size_mb = (param_bytes + buffer_bytes) / 1e6\n",
    "print(f\"Model size on disk (approx.): {model_size_mb:.2f} MB\")\n",
    "\n",
    "# -- average inference time per sample ----------------------------------------\n",
    "N_BENCH = 200  # max samples to benchmark (speeds up)\n",
    "bench_loader = DataLoader(test_ds, batch_size=1, collate_fn=collate)\n",
    "start = time.time(); n = 0\n",
    "with torch.no_grad(), autocast(device_type=\"cuda\"):\n",
    "    for xb, _ in bench_loader:\n",
    "        _ = model(xb.to(DEVICE))\n",
    "        n += 1\n",
    "        if n >= N_BENCH:\n",
    "            break\n",
    "end = time.time()\n",
    "avg_ms = (end - start) / n * 1000\n",
    "print(f\"Average inference time per sample: {avg_ms:.2f} ms over {n} samples\")\n"
   ]
  }
 ],
 "metadata": {
  "kernelspec": {
   "display_name": "Python 3 (ipykernel)",
   "language": "python",
   "name": "python3"
  },
  "language_info": {
   "codemirror_mode": {
    "name": "ipython",
    "version": 3
   },
   "file_extension": ".py",
   "mimetype": "text/x-python",
   "name": "python",
   "nbconvert_exporter": "python",
   "pygments_lexer": "ipython3",
   "version": "3.8.20"
  }
 },
 "nbformat": 4,
 "nbformat_minor": 5
}
