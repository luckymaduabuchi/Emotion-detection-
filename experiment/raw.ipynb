{
 "cells": [
  {
   "cell_type": "code",
   "execution_count": 1,
   "id": "4110254b-6069-4e33-8e18-27892076b4d1",
   "metadata": {},
   "outputs": [],
   "source": [
    "# Notebook‑friendly PaSST fine‑tuning for emotion recognition\n",
    "# -----------------------------------------------------------\n",
    "# Each \"# %%\" cell marker lets Jupyter / VS Code split the notebook automatically.\n",
    "# Adjust DATA_ROOT to point at your dataset folder containing\n",
    "#   ├── train.csv / val.csv / test.csv\n",
    "#   ├── train/*.wav / val/*.wav / test/*.wav\n",
    "# \n",
    "# CSV format:  filename,emotion   where emotion ∈ {ANG, DIS, FEA, HAP, NEU, SAD}\n",
    "\n",
    "# %% [markdown]\n",
    "# ### 0  Setup & dependencies\n",
    "# Make sure `hear21passt`, `torchaudio`, and `sklearn` are installed.\n",
    "# If you use Google Colab, uncomment the next cell to install.\n",
    "# !pip install hear21passt torchaudio scikit-learn tqdm matplotlib seaborn --quiet"
   ]
  },
  {
   "cell_type": "code",
   "execution_count": 2,
   "id": "8883e130-643a-465f-9c37-bf9b1eff45aa",
   "metadata": {},
   "outputs": [
    {
     "name": "stderr",
     "output_type": "stream",
     "text": [
      "/home/vm-user/anaconda3/envs/passt/lib/python3.8/site-packages/tqdm/auto.py:21: TqdmWarning: IProgress not found. Please update jupyter and ipywidgets. See https://ipywidgets.readthedocs.io/en/stable/user_install.html\n",
      "  from .autonotebook import tqdm as notebook_tqdm\n"
     ]
    }
   ],
   "source": [
    "# %%\n",
    "import os, random, time, csv\n",
    "from pathlib import Path\n",
    "from typing import List, Tuple\n",
    "\n",
    "import torch, torchaudio\n",
    "import torch.nn as nn\n",
    "import torch.nn.functional as F\n",
    "import torchaudio.transforms as T\n",
    "from torch.utils.data import Dataset, DataLoader\n",
    "\n",
    "import numpy as np\n",
    "import matplotlib.pyplot as plt\n",
    "from sklearn.metrics import classification_report, confusion_matrix, f1_score\n",
    "\n",
    "from hear21passt.base import get_model_passt\n",
    "\n",
    "torch.backends.cudnn.benchmark = True\n"
   ]
  },
  {
   "cell_type": "code",
   "execution_count": 3,
   "id": "7202d276-29fd-4a76-98c4-1bf9c892e62c",
   "metadata": {},
   "outputs": [],
   "source": [
    "# %% [markdown]\n",
    "# ### 1  Reproducibility helpers\n",
    "# %%"
   ]
  },
  {
   "cell_type": "code",
   "execution_count": 4,
   "id": "f176e50c-c6ed-4b5b-9ff2-7b05d6d98e5a",
   "metadata": {},
   "outputs": [],
   "source": [
    "def set_seed(seed: int = 42):\n",
    "    random.seed(seed); np.random.seed(seed)\n",
    "    torch.manual_seed(seed); torch.cuda.manual_seed_all(seed)\n",
    "\n",
    "set_seed(42)"
   ]
  },
  {
   "cell_type": "code",
   "execution_count": 5,
   "id": "17ac0477-6430-41c9-8935-3cfea02e8e58",
   "metadata": {},
   "outputs": [],
   "source": [
    "# %% [markdown]\n",
    "# ### 2  Constants & label maps\n",
    "# %%"
   ]
  },
  {
   "cell_type": "code",
   "execution_count": 6,
   "id": "c7c98f81-4654-4eec-a891-30e01f6116c2",
   "metadata": {},
   "outputs": [
    {
     "name": "stdout",
     "output_type": "stream",
     "text": [
      "Using cuda\n"
     ]
    }
   ],
   "source": [
    "EMOTIONS = [\"ANG\", \"DIS\", \"FEA\", \"HAP\", \"NEU\", \"SAD\"]\n",
    "LABEL_MAP  = {e: i for i, e in enumerate(EMOTIONS)}\n",
    "INV_LABEL  = {i: e for e, i in LABEL_MAP.items()}\n",
    "TARGET_SR   = 32_000\n",
    "NUM_SAMPLES = 1024 + (998 - 1) * 320   # 10.002 s @ 32 kHz\n",
    "DEVICE      = torch.device(\"cuda\" if torch.cuda.is_available() else \"cpu\")\n",
    "print(\"Using\", DEVICE)"
   ]
  },
  {
   "cell_type": "code",
   "execution_count": 7,
   "id": "ade133b4-27d5-4096-b281-23bbb6e9d2e1",
   "metadata": {},
   "outputs": [],
   "source": [
    "# %% [markdown]\n",
    "# ### 3  Dataset with on‑the‑fly augmentation\n",
    "# %%"
   ]
  },
  {
   "cell_type": "code",
   "execution_count": 8,
   "id": "88cb1506-047a-4457-9113-12202eebb104",
   "metadata": {},
   "outputs": [],
   "source": [
    "class EmotionDataset(Dataset):\n",
    "    \"\"\"Return mel‑spectrogram tensors (1×128×998) + label.\"\"\"\n",
    "    def __init__(self, csv_path: Path, audio_root: Path, augment=False):\n",
    "        self.records: List[Tuple[Path, int]] = []\n",
    "        with open(csv_path, newline=\"\") as f:\n",
    "            for row in csv.DictReader(f):\n",
    "                emo = row[\"emotion\"].strip().upper()\n",
    "                if emo in LABEL_MAP:\n",
    "                    self.records.append((audio_root / row[\"filename\"].strip(), LABEL_MAP[emo]))\n",
    "        if not self.records:\n",
    "            raise ValueError(\"CSV parsing failed—no usable rows\")\n",
    "        self.augment = augment\n",
    "        self.resample = T.Resample(TARGET_SR, TARGET_SR)\n",
    "        self.mel = T.MelSpectrogram(sample_rate=TARGET_SR, n_fft=1024, hop_length=320, n_mels=128, center=False)\n",
    "        self.db  = T.AmplitudeToDB(\"power\")\n",
    "        self.pitch_fn = lambda w: T.PitchShift(TARGET_SR, n_steps=random.uniform(-2,2))(w)\n",
    "        self.gain_fn  = lambda w: T.Vol(gain=random.uniform(-6,6), gain_type=\"db\")(w)\n",
    "\n",
    "    def __len__(self): return len(self.records)\n",
    "\n",
    "    def _augment(self, w):\n",
    "        if random.random()<0.5: w += torch.randn_like(w)*0.005\n",
    "        if random.random()<0.3: w = self.gain_fn(w)\n",
    "        if random.random()<0.2: w = self.pitch_fn(w)\n",
    "        return w\n",
    "\n",
    "    def __getitem__(self, idx):\n",
    "        path, label = self.records[idx]\n",
    "        w, sr = torchaudio.load(path)\n",
    "        if w.shape[0]>1: w=w.mean(0, keepdim=True)\n",
    "        if sr!=TARGET_SR: w=self.resample(w)\n",
    "        if self.augment: w=self._augment(w)\n",
    "        w = (w-w.mean())/(w.std()+1e-9)\n",
    "        mel = self.db(self.mel(w)).clamp(min=-80.0)\n",
    "        if mel.shape[2]<998: mel=F.pad(mel,(0,998-mel.shape[2]))\n",
    "        else: mel=mel[...,:998]\n",
    "        return mel, label\n"
   ]
  },
  {
   "cell_type": "code",
   "execution_count": 9,
   "id": "b34255ae-4805-4127-8b61-87e63080561d",
   "metadata": {},
   "outputs": [],
   "source": [
    "\n",
    "# %% [markdown]\n",
    "# ### 4  Paths & data loaders\n",
    "# Adjust `DATA_ROOT` to your dataset location.\n",
    "# %%"
   ]
  },
  {
   "cell_type": "code",
   "execution_count": 10,
   "id": "d5081eb4-a102-481e-b4e6-42ad917c8041",
   "metadata": {},
   "outputs": [
    {
     "name": "stdout",
     "output_type": "stream",
     "text": [
      "5209 train samples • 1116 val • 1117 test\n"
     ]
    }
   ],
   "source": [
    "DATA_ROOT = Path(\"/home/vm-user/Documents/lucky/dataset\")  # <- change this!\n",
    "BATCH = 3                  # reduced for 8 GB GPUs\n",
    "ACC_STEPS = 2                # accumulate gradients to simulate bigger batch\n",
    "\n",
    "train_ds = EmotionDataset(DATA_ROOT/\"train.csv\", DATA_ROOT/\"train\", augment=True)\n",
    "val_ds   = EmotionDataset(DATA_ROOT/\"val.csv\",   DATA_ROOT/\"val\")\n",
    "\n",
    "test_ds  = EmotionDataset(DATA_ROOT/\"test.csv\",  DATA_ROOT/\"test\")\n",
    "collate  = lambda b: (torch.stack([x for x,_ in b]), torch.tensor([y for _,y in b]))\n",
    "train_loader=DataLoader(train_ds,BATCH,True, drop_last=True, collate_fn=collate, pin_memory=True)\n",
    "val_loader  =DataLoader(val_ds  ,BATCH,False,                collate_fn=collate, pin_memory=True)\n",
    "print(len(train_ds),\"train samples •\",len(val_ds),\"val •\",len(test_ds),\"test\")\n"
   ]
  },
  {
   "cell_type": "code",
   "execution_count": 11,
   "id": "1519daa7-6e7a-4529-bca9-eb5251c9e900",
   "metadata": {},
   "outputs": [],
   "source": [
    "# %% [markdown]\n",
    "# ### 5  Model: PaSST S‑SWA with new 6‑class head\n",
    "# We fine‑tune only the last transformer block and the classification MLp head.\n",
    "# %%"
   ]
  },
  {
   "cell_type": "code",
   "execution_count": 12,
   "id": "47300b9a-776f-42d0-bcbc-e244a72903a2",
   "metadata": {},
   "outputs": [
    {
     "name": "stdout",
     "output_type": "stream",
     "text": [
      "\n",
      "\n",
      " Loading PASST TRAINED ON AUDISET \n",
      "\n",
      "\n"
     ]
    },
    {
     "name": "stderr",
     "output_type": "stream",
     "text": [
      "/home/vm-user/anaconda3/envs/passt/lib/python3.8/site-packages/hear21passt/models/helpers/vit_helpers.py:93: FutureWarning: You are using `torch.load` with `weights_only=False` (the current default value), which uses the default pickle module implicitly. It is possible to construct malicious pickle data which will execute arbitrary code during unpickling (See https://github.com/pytorch/pytorch/blob/main/SECURITY.md#untrusted-models for more details). In a future release, the default value for `weights_only` will be flipped to `True`. This limits the functions that could be executed during unpickling. Arbitrary objects will no longer be allowed to be loaded via this mode unless they are explicitly allowlisted by the user via `torch.serialization.add_safe_globals`. We recommend you start setting `weights_only=True` for any use case where you don't have full control of the loaded file. Please open an issue on GitHub for any issues related to this experimental feature.\n",
      "  state_dict = torch.load(pretrained_loc, map_location=\"cpu\")\n"
     ]
    },
    {
     "name": "stdout",
     "output_type": "stream",
     "text": [
      "PaSST(\n",
      "  (patch_embed): PatchEmbed(\n",
      "    (proj): Conv2d(1, 768, kernel_size=(16, 16), stride=(10, 10))\n",
      "    (norm): Identity()\n",
      "  )\n",
      "  (pos_drop): Dropout(p=0.0, inplace=False)\n",
      "  (blocks): Sequential(\n",
      "    (0): Block(\n",
      "      (norm1): LayerNorm((768,), eps=1e-06, elementwise_affine=True)\n",
      "      (attn): Attention(\n",
      "        (qkv): Linear(in_features=768, out_features=2304, bias=True)\n",
      "        (attn_drop): Dropout(p=0.0, inplace=False)\n",
      "        (proj): Linear(in_features=768, out_features=768, bias=True)\n",
      "        (proj_drop): Dropout(p=0.0, inplace=False)\n",
      "      )\n",
      "      (drop_path): Identity()\n",
      "      (norm2): LayerNorm((768,), eps=1e-06, elementwise_affine=True)\n",
      "      (mlp): Mlp(\n",
      "        (fc1): Linear(in_features=768, out_features=3072, bias=True)\n",
      "        (act): GELU(approximate='none')\n",
      "        (fc2): Linear(in_features=3072, out_features=768, bias=True)\n",
      "        (drop): Dropout(p=0.0, inplace=False)\n",
      "      )\n",
      "    )\n",
      "    (1): Block(\n",
      "      (norm1): LayerNorm((768,), eps=1e-06, elementwise_affine=True)\n",
      "      (attn): Attention(\n",
      "        (qkv): Linear(in_features=768, out_features=2304, bias=True)\n",
      "        (attn_drop): Dropout(p=0.0, inplace=False)\n",
      "        (proj): Linear(in_features=768, out_features=768, bias=True)\n",
      "        (proj_drop): Dropout(p=0.0, inplace=False)\n",
      "      )\n",
      "      (drop_path): Identity()\n",
      "      (norm2): LayerNorm((768,), eps=1e-06, elementwise_affine=True)\n",
      "      (mlp): Mlp(\n",
      "        (fc1): Linear(in_features=768, out_features=3072, bias=True)\n",
      "        (act): GELU(approximate='none')\n",
      "        (fc2): Linear(in_features=3072, out_features=768, bias=True)\n",
      "        (drop): Dropout(p=0.0, inplace=False)\n",
      "      )\n",
      "    )\n",
      "    (2): Block(\n",
      "      (norm1): LayerNorm((768,), eps=1e-06, elementwise_affine=True)\n",
      "      (attn): Attention(\n",
      "        (qkv): Linear(in_features=768, out_features=2304, bias=True)\n",
      "        (attn_drop): Dropout(p=0.0, inplace=False)\n",
      "        (proj): Linear(in_features=768, out_features=768, bias=True)\n",
      "        (proj_drop): Dropout(p=0.0, inplace=False)\n",
      "      )\n",
      "      (drop_path): Identity()\n",
      "      (norm2): LayerNorm((768,), eps=1e-06, elementwise_affine=True)\n",
      "      (mlp): Mlp(\n",
      "        (fc1): Linear(in_features=768, out_features=3072, bias=True)\n",
      "        (act): GELU(approximate='none')\n",
      "        (fc2): Linear(in_features=3072, out_features=768, bias=True)\n",
      "        (drop): Dropout(p=0.0, inplace=False)\n",
      "      )\n",
      "    )\n",
      "    (3): Block(\n",
      "      (norm1): LayerNorm((768,), eps=1e-06, elementwise_affine=True)\n",
      "      (attn): Attention(\n",
      "        (qkv): Linear(in_features=768, out_features=2304, bias=True)\n",
      "        (attn_drop): Dropout(p=0.0, inplace=False)\n",
      "        (proj): Linear(in_features=768, out_features=768, bias=True)\n",
      "        (proj_drop): Dropout(p=0.0, inplace=False)\n",
      "      )\n",
      "      (drop_path): Identity()\n",
      "      (norm2): LayerNorm((768,), eps=1e-06, elementwise_affine=True)\n",
      "      (mlp): Mlp(\n",
      "        (fc1): Linear(in_features=768, out_features=3072, bias=True)\n",
      "        (act): GELU(approximate='none')\n",
      "        (fc2): Linear(in_features=3072, out_features=768, bias=True)\n",
      "        (drop): Dropout(p=0.0, inplace=False)\n",
      "      )\n",
      "    )\n",
      "    (4): Block(\n",
      "      (norm1): LayerNorm((768,), eps=1e-06, elementwise_affine=True)\n",
      "      (attn): Attention(\n",
      "        (qkv): Linear(in_features=768, out_features=2304, bias=True)\n",
      "        (attn_drop): Dropout(p=0.0, inplace=False)\n",
      "        (proj): Linear(in_features=768, out_features=768, bias=True)\n",
      "        (proj_drop): Dropout(p=0.0, inplace=False)\n",
      "      )\n",
      "      (drop_path): Identity()\n",
      "      (norm2): LayerNorm((768,), eps=1e-06, elementwise_affine=True)\n",
      "      (mlp): Mlp(\n",
      "        (fc1): Linear(in_features=768, out_features=3072, bias=True)\n",
      "        (act): GELU(approximate='none')\n",
      "        (fc2): Linear(in_features=3072, out_features=768, bias=True)\n",
      "        (drop): Dropout(p=0.0, inplace=False)\n",
      "      )\n",
      "    )\n",
      "    (5): Block(\n",
      "      (norm1): LayerNorm((768,), eps=1e-06, elementwise_affine=True)\n",
      "      (attn): Attention(\n",
      "        (qkv): Linear(in_features=768, out_features=2304, bias=True)\n",
      "        (attn_drop): Dropout(p=0.0, inplace=False)\n",
      "        (proj): Linear(in_features=768, out_features=768, bias=True)\n",
      "        (proj_drop): Dropout(p=0.0, inplace=False)\n",
      "      )\n",
      "      (drop_path): Identity()\n",
      "      (norm2): LayerNorm((768,), eps=1e-06, elementwise_affine=True)\n",
      "      (mlp): Mlp(\n",
      "        (fc1): Linear(in_features=768, out_features=3072, bias=True)\n",
      "        (act): GELU(approximate='none')\n",
      "        (fc2): Linear(in_features=3072, out_features=768, bias=True)\n",
      "        (drop): Dropout(p=0.0, inplace=False)\n",
      "      )\n",
      "    )\n",
      "    (6): Block(\n",
      "      (norm1): LayerNorm((768,), eps=1e-06, elementwise_affine=True)\n",
      "      (attn): Attention(\n",
      "        (qkv): Linear(in_features=768, out_features=2304, bias=True)\n",
      "        (attn_drop): Dropout(p=0.0, inplace=False)\n",
      "        (proj): Linear(in_features=768, out_features=768, bias=True)\n",
      "        (proj_drop): Dropout(p=0.0, inplace=False)\n",
      "      )\n",
      "      (drop_path): Identity()\n",
      "      (norm2): LayerNorm((768,), eps=1e-06, elementwise_affine=True)\n",
      "      (mlp): Mlp(\n",
      "        (fc1): Linear(in_features=768, out_features=3072, bias=True)\n",
      "        (act): GELU(approximate='none')\n",
      "        (fc2): Linear(in_features=3072, out_features=768, bias=True)\n",
      "        (drop): Dropout(p=0.0, inplace=False)\n",
      "      )\n",
      "    )\n",
      "    (7): Block(\n",
      "      (norm1): LayerNorm((768,), eps=1e-06, elementwise_affine=True)\n",
      "      (attn): Attention(\n",
      "        (qkv): Linear(in_features=768, out_features=2304, bias=True)\n",
      "        (attn_drop): Dropout(p=0.0, inplace=False)\n",
      "        (proj): Linear(in_features=768, out_features=768, bias=True)\n",
      "        (proj_drop): Dropout(p=0.0, inplace=False)\n",
      "      )\n",
      "      (drop_path): Identity()\n",
      "      (norm2): LayerNorm((768,), eps=1e-06, elementwise_affine=True)\n",
      "      (mlp): Mlp(\n",
      "        (fc1): Linear(in_features=768, out_features=3072, bias=True)\n",
      "        (act): GELU(approximate='none')\n",
      "        (fc2): Linear(in_features=3072, out_features=768, bias=True)\n",
      "        (drop): Dropout(p=0.0, inplace=False)\n",
      "      )\n",
      "    )\n",
      "    (8): Block(\n",
      "      (norm1): LayerNorm((768,), eps=1e-06, elementwise_affine=True)\n",
      "      (attn): Attention(\n",
      "        (qkv): Linear(in_features=768, out_features=2304, bias=True)\n",
      "        (attn_drop): Dropout(p=0.0, inplace=False)\n",
      "        (proj): Linear(in_features=768, out_features=768, bias=True)\n",
      "        (proj_drop): Dropout(p=0.0, inplace=False)\n",
      "      )\n",
      "      (drop_path): Identity()\n",
      "      (norm2): LayerNorm((768,), eps=1e-06, elementwise_affine=True)\n",
      "      (mlp): Mlp(\n",
      "        (fc1): Linear(in_features=768, out_features=3072, bias=True)\n",
      "        (act): GELU(approximate='none')\n",
      "        (fc2): Linear(in_features=3072, out_features=768, bias=True)\n",
      "        (drop): Dropout(p=0.0, inplace=False)\n",
      "      )\n",
      "    )\n",
      "    (9): Block(\n",
      "      (norm1): LayerNorm((768,), eps=1e-06, elementwise_affine=True)\n",
      "      (attn): Attention(\n",
      "        (qkv): Linear(in_features=768, out_features=2304, bias=True)\n",
      "        (attn_drop): Dropout(p=0.0, inplace=False)\n",
      "        (proj): Linear(in_features=768, out_features=768, bias=True)\n",
      "        (proj_drop): Dropout(p=0.0, inplace=False)\n",
      "      )\n",
      "      (drop_path): Identity()\n",
      "      (norm2): LayerNorm((768,), eps=1e-06, elementwise_affine=True)\n",
      "      (mlp): Mlp(\n",
      "        (fc1): Linear(in_features=768, out_features=3072, bias=True)\n",
      "        (act): GELU(approximate='none')\n",
      "        (fc2): Linear(in_features=3072, out_features=768, bias=True)\n",
      "        (drop): Dropout(p=0.0, inplace=False)\n",
      "      )\n",
      "    )\n",
      "    (10): Block(\n",
      "      (norm1): LayerNorm((768,), eps=1e-06, elementwise_affine=True)\n",
      "      (attn): Attention(\n",
      "        (qkv): Linear(in_features=768, out_features=2304, bias=True)\n",
      "        (attn_drop): Dropout(p=0.0, inplace=False)\n",
      "        (proj): Linear(in_features=768, out_features=768, bias=True)\n",
      "        (proj_drop): Dropout(p=0.0, inplace=False)\n",
      "      )\n",
      "      (drop_path): Identity()\n",
      "      (norm2): LayerNorm((768,), eps=1e-06, elementwise_affine=True)\n",
      "      (mlp): Mlp(\n",
      "        (fc1): Linear(in_features=768, out_features=3072, bias=True)\n",
      "        (act): GELU(approximate='none')\n",
      "        (fc2): Linear(in_features=3072, out_features=768, bias=True)\n",
      "        (drop): Dropout(p=0.0, inplace=False)\n",
      "      )\n",
      "    )\n",
      "    (11): Block(\n",
      "      (norm1): LayerNorm((768,), eps=1e-06, elementwise_affine=True)\n",
      "      (attn): Attention(\n",
      "        (qkv): Linear(in_features=768, out_features=2304, bias=True)\n",
      "        (attn_drop): Dropout(p=0.0, inplace=False)\n",
      "        (proj): Linear(in_features=768, out_features=768, bias=True)\n",
      "        (proj_drop): Dropout(p=0.0, inplace=False)\n",
      "      )\n",
      "      (drop_path): Identity()\n",
      "      (norm2): LayerNorm((768,), eps=1e-06, elementwise_affine=True)\n",
      "      (mlp): Mlp(\n",
      "        (fc1): Linear(in_features=768, out_features=3072, bias=True)\n",
      "        (act): GELU(approximate='none')\n",
      "        (fc2): Linear(in_features=3072, out_features=768, bias=True)\n",
      "        (drop): Dropout(p=0.0, inplace=False)\n",
      "      )\n",
      "    )\n",
      "  )\n",
      "  (norm): LayerNorm((768,), eps=1e-06, elementwise_affine=True)\n",
      "  (pre_logits): Identity()\n",
      "  (head): Sequential(\n",
      "    (0): LayerNorm((768,), eps=1e-05, elementwise_affine=True)\n",
      "    (1): Linear(in_features=768, out_features=6, bias=True)\n",
      "  )\n",
      "  (head_dist): Linear(in_features=768, out_features=6, bias=True)\n",
      ")\n",
      "Trainable params: 7.087872 M\n"
     ]
    }
   ],
   "source": [
    "model = get_model_passt(\"passt_s_swa_p16_128_ap476\", pretrained=True, n_classes=len(EMOTIONS)).to(DEVICE)\n",
    "for n,p in model.named_parameters():\n",
    "    p.requires_grad = n.startswith(\"blocks.11\") or n.startswith(\"mlp_head\")\n",
    "print(\"Trainable params:\", sum(p.numel() for p in model.parameters() if p.requires_grad)/1e6, \"M\")"
   ]
  },
  {
   "cell_type": "code",
   "execution_count": 13,
   "id": "222fb996-65d8-4e2a-9676-f1ed92844b86",
   "metadata": {},
   "outputs": [
    {
     "name": "stderr",
     "output_type": "stream",
     "text": [
      "/tmp/ipykernel_3109506/2369042697.py:18: FutureWarning: `torch.cuda.amp.GradScaler(args...)` is deprecated. Please use `torch.amp.GradScaler('cuda', args...)` instead.\n",
      "  scaler = GradScaler()\n"
     ]
    }
   ],
   "source": [
    "#from torch import amp\n",
    "#from torch.cuda.amp import autocast\n",
    "\n",
    "#criterion = nn.CrossEntropyLoss()\n",
    "#optimizer = torch.optim.AdamW(filter(lambda p: p.requires_grad, model.parameters()), lr=3e-5, weight_decay=1e-2)\n",
    "\n",
    "#scaler = amp.GradScaler(device='cuda')  # updated per warning\n",
    "\n",
    "# Enable patchout during training to save memory\n",
    "#model.train_patchout = True\n",
    "#model.train_patchout_t = 10  # drop 10 time patches\n",
    "#model.train_patchout_f = 4   # drop 4 freq patches\n",
    "\n",
    "\n",
    "criterion = nn.CrossEntropyLoss()\n",
    "optimizer = torch.optim.AdamW(filter(lambda p:p.requires_grad, model.parameters()), lr=3e-5, weight_decay=1e-2)\n",
    "from torch.cuda.amp import autocast, GradScaler\n",
    "scaler = GradScaler()\n",
    "\n",
    "# enable patchout during training to save memory\n",
    "model.train_patchout = True\n",
    "model.train_patchout_t = 10  # drop 10 time patches\n",
    "model.train_patchout_f = 4   # drop 4 freq patches\n"
   ]
  },
  {
   "cell_type": "code",
   "execution_count": 14,
   "id": "59592828-51f7-4829-b55c-e0acfb6ebd8f",
   "metadata": {},
   "outputs": [],
   "source": [
    "# %% [markdown]\n",
    "# ### 6  Training & validation helpers\n",
    "# %%"
   ]
  },
  {
   "cell_type": "code",
   "execution_count": 15,
   "id": "292befe9-a7b6-4d4d-ab74-152a415c5967",
   "metadata": {},
   "outputs": [],
   "source": [
    "def one_epoch():\n",
    "    model.train(); running=0\n",
    "    optimizer.zero_grad()\n",
    "    for i,(xb,yb) in enumerate(train_loader):\n",
    "        xb,yb = xb.to(DEVICE), yb.to(DEVICE)\n",
    "        with autocast():\n",
    "            logits = model(xb)\n",
    "        if isinstance(logits, tuple):  # PaSST may return (logits, dist_logits)\n",
    "            logits = logits[0]\n",
    "        loss = criterion(logits, yb) / ACC_STEPS\n",
    "        scaler.scale(loss).backward()\n",
    "        if (i+1)%ACC_STEPS==0:\n",
    "            scaler.step(optimizer); scaler.update(); optimizer.zero_grad()\n",
    "        running += loss.item()*ACC_STEPS*xb.size(0)\n",
    "    return running/len(train_loader.dataset)\n",
    "\n",
    "def evaluate(loader):\n",
    "    model.eval(); yt,yp=[],[]\n",
    "    with torch.no_grad(), autocast():\n",
    "        for xb,yb in loader:\n",
    "            out = model(xb.to(DEVICE))\n",
    "            if isinstance(out, tuple):\n",
    "                out = out[0]\n",
    "            preds = out.argmax(1).cpu()\n",
    "            yt+=yb.tolist(); yp+=preds.tolist()\n",
    "    return f1_score(yt,yp,average=\"weighted\"), yt, yp"
   ]
  },
  {
   "cell_type": "code",
   "execution_count": 16,
   "id": "fb7765ee-ca49-4c4f-9313-0af099f31f4c",
   "metadata": {},
   "outputs": [],
   "source": [
    "# %% [markdown]\n",
    "# ### 7  Training loop\n",
    "# %%\n"
   ]
  },
  {
   "cell_type": "code",
   "execution_count": 17,
   "id": "1a5aa9ce-6793-4649-9090-13cd144c6da0",
   "metadata": {},
   "outputs": [
    {
     "name": "stderr",
     "output_type": "stream",
     "text": [
      "/tmp/ipykernel_3109506/527496067.py:6: FutureWarning: `torch.cuda.amp.autocast(args...)` is deprecated. Please use `torch.amp.autocast('cuda', args...)` instead.\n",
      "  with autocast():\n"
     ]
    },
    {
     "name": "stdout",
     "output_type": "stream",
     "text": [
      "x torch.Size([3, 1, 128, 998])\n",
      "self.norm(x) torch.Size([3, 768, 12, 99])\n",
      " patch_embed :  torch.Size([3, 768, 12, 99])\n",
      " self.time_new_pos_embed.shape torch.Size([1, 768, 1, 99])\n",
      " self.freq_new_pos_embed.shape torch.Size([1, 768, 12, 1])\n",
      "X flattened torch.Size([3, 1188, 768])\n",
      " self.new_pos_embed.shape torch.Size([1, 2, 768])\n",
      " self.cls_tokens.shape torch.Size([3, 1, 768])\n",
      " self.dist_token.shape torch.Size([3, 1, 768])\n",
      " final sequence x torch.Size([3, 1190, 768])\n",
      " after 12 atten blocks x torch.Size([3, 1190, 768])\n",
      "forward_features torch.Size([3, 768])\n",
      "head torch.Size([3, 6])\n"
     ]
    },
    {
     "name": "stderr",
     "output_type": "stream",
     "text": [
      "/tmp/ipykernel_3109506/527496067.py:19: FutureWarning: `torch.cuda.amp.autocast(args...)` is deprecated. Please use `torch.amp.autocast('cuda', args...)` instead.\n",
      "  with torch.no_grad(), autocast():\n"
     ]
    },
    {
     "name": "stdout",
     "output_type": "stream",
     "text": [
      "Epoch 01: loss 1.5315  val‑F1 0.3913\n",
      "📝 new best saved\n"
     ]
    },
    {
     "name": "stderr",
     "output_type": "stream",
     "text": [
      "/tmp/ipykernel_3109506/527496067.py:6: FutureWarning: `torch.cuda.amp.autocast(args...)` is deprecated. Please use `torch.amp.autocast('cuda', args...)` instead.\n",
      "  with autocast():\n",
      "/tmp/ipykernel_3109506/527496067.py:19: FutureWarning: `torch.cuda.amp.autocast(args...)` is deprecated. Please use `torch.amp.autocast('cuda', args...)` instead.\n",
      "  with torch.no_grad(), autocast():\n"
     ]
    },
    {
     "name": "stdout",
     "output_type": "stream",
     "text": [
      "Epoch 02: loss 1.3916  val‑F1 0.4003\n",
      "📝 new best saved\n"
     ]
    },
    {
     "name": "stderr",
     "output_type": "stream",
     "text": [
      "/tmp/ipykernel_3109506/527496067.py:6: FutureWarning: `torch.cuda.amp.autocast(args...)` is deprecated. Please use `torch.amp.autocast('cuda', args...)` instead.\n",
      "  with autocast():\n",
      "/tmp/ipykernel_3109506/527496067.py:19: FutureWarning: `torch.cuda.amp.autocast(args...)` is deprecated. Please use `torch.amp.autocast('cuda', args...)` instead.\n",
      "  with torch.no_grad(), autocast():\n"
     ]
    },
    {
     "name": "stdout",
     "output_type": "stream",
     "text": [
      "Epoch 03: loss 1.3278  val‑F1 0.4295\n",
      "📝 new best saved\n"
     ]
    },
    {
     "name": "stderr",
     "output_type": "stream",
     "text": [
      "/tmp/ipykernel_3109506/527496067.py:6: FutureWarning: `torch.cuda.amp.autocast(args...)` is deprecated. Please use `torch.amp.autocast('cuda', args...)` instead.\n",
      "  with autocast():\n",
      "/tmp/ipykernel_3109506/527496067.py:19: FutureWarning: `torch.cuda.amp.autocast(args...)` is deprecated. Please use `torch.amp.autocast('cuda', args...)` instead.\n",
      "  with torch.no_grad(), autocast():\n"
     ]
    },
    {
     "name": "stdout",
     "output_type": "stream",
     "text": [
      "Epoch 04: loss 1.2850  val‑F1 0.4746\n",
      "📝 new best saved\n"
     ]
    },
    {
     "name": "stderr",
     "output_type": "stream",
     "text": [
      "/tmp/ipykernel_3109506/527496067.py:6: FutureWarning: `torch.cuda.amp.autocast(args...)` is deprecated. Please use `torch.amp.autocast('cuda', args...)` instead.\n",
      "  with autocast():\n",
      "/tmp/ipykernel_3109506/527496067.py:19: FutureWarning: `torch.cuda.amp.autocast(args...)` is deprecated. Please use `torch.amp.autocast('cuda', args...)` instead.\n",
      "  with torch.no_grad(), autocast():\n"
     ]
    },
    {
     "name": "stdout",
     "output_type": "stream",
     "text": [
      "Epoch 05: loss 1.2417  val‑F1 0.4820\n",
      "📝 new best saved\n"
     ]
    },
    {
     "name": "stderr",
     "output_type": "stream",
     "text": [
      "/tmp/ipykernel_3109506/527496067.py:6: FutureWarning: `torch.cuda.amp.autocast(args...)` is deprecated. Please use `torch.amp.autocast('cuda', args...)` instead.\n",
      "  with autocast():\n",
      "/tmp/ipykernel_3109506/527496067.py:19: FutureWarning: `torch.cuda.amp.autocast(args...)` is deprecated. Please use `torch.amp.autocast('cuda', args...)` instead.\n",
      "  with torch.no_grad(), autocast():\n"
     ]
    },
    {
     "name": "stdout",
     "output_type": "stream",
     "text": [
      "Epoch 06: loss 1.2136  val‑F1 0.4812\n"
     ]
    },
    {
     "name": "stderr",
     "output_type": "stream",
     "text": [
      "/tmp/ipykernel_3109506/527496067.py:6: FutureWarning: `torch.cuda.amp.autocast(args...)` is deprecated. Please use `torch.amp.autocast('cuda', args...)` instead.\n",
      "  with autocast():\n",
      "/tmp/ipykernel_3109506/527496067.py:19: FutureWarning: `torch.cuda.amp.autocast(args...)` is deprecated. Please use `torch.amp.autocast('cuda', args...)` instead.\n",
      "  with torch.no_grad(), autocast():\n"
     ]
    },
    {
     "name": "stdout",
     "output_type": "stream",
     "text": [
      "Epoch 07: loss 1.1746  val‑F1 0.4990\n",
      "📝 new best saved\n"
     ]
    },
    {
     "name": "stderr",
     "output_type": "stream",
     "text": [
      "/tmp/ipykernel_3109506/527496067.py:6: FutureWarning: `torch.cuda.amp.autocast(args...)` is deprecated. Please use `torch.amp.autocast('cuda', args...)` instead.\n",
      "  with autocast():\n",
      "/tmp/ipykernel_3109506/527496067.py:19: FutureWarning: `torch.cuda.amp.autocast(args...)` is deprecated. Please use `torch.amp.autocast('cuda', args...)` instead.\n",
      "  with torch.no_grad(), autocast():\n"
     ]
    },
    {
     "name": "stdout",
     "output_type": "stream",
     "text": [
      "Epoch 08: loss 1.1464  val‑F1 0.4809\n"
     ]
    },
    {
     "name": "stderr",
     "output_type": "stream",
     "text": [
      "/tmp/ipykernel_3109506/527496067.py:6: FutureWarning: `torch.cuda.amp.autocast(args...)` is deprecated. Please use `torch.amp.autocast('cuda', args...)` instead.\n",
      "  with autocast():\n",
      "/tmp/ipykernel_3109506/527496067.py:19: FutureWarning: `torch.cuda.amp.autocast(args...)` is deprecated. Please use `torch.amp.autocast('cuda', args...)` instead.\n",
      "  with torch.no_grad(), autocast():\n"
     ]
    },
    {
     "name": "stdout",
     "output_type": "stream",
     "text": [
      "Epoch 09: loss 1.1198  val‑F1 0.4744\n"
     ]
    },
    {
     "name": "stderr",
     "output_type": "stream",
     "text": [
      "/tmp/ipykernel_3109506/527496067.py:6: FutureWarning: `torch.cuda.amp.autocast(args...)` is deprecated. Please use `torch.amp.autocast('cuda', args...)` instead.\n",
      "  with autocast():\n",
      "/tmp/ipykernel_3109506/527496067.py:19: FutureWarning: `torch.cuda.amp.autocast(args...)` is deprecated. Please use `torch.amp.autocast('cuda', args...)` instead.\n",
      "  with torch.no_grad(), autocast():\n"
     ]
    },
    {
     "name": "stdout",
     "output_type": "stream",
     "text": [
      "Epoch 10: loss 1.0870  val‑F1 0.5063\n",
      "📝 new best saved\n"
     ]
    },
    {
     "name": "stderr",
     "output_type": "stream",
     "text": [
      "/tmp/ipykernel_3109506/527496067.py:6: FutureWarning: `torch.cuda.amp.autocast(args...)` is deprecated. Please use `torch.amp.autocast('cuda', args...)` instead.\n",
      "  with autocast():\n",
      "/tmp/ipykernel_3109506/527496067.py:19: FutureWarning: `torch.cuda.amp.autocast(args...)` is deprecated. Please use `torch.amp.autocast('cuda', args...)` instead.\n",
      "  with torch.no_grad(), autocast():\n"
     ]
    },
    {
     "name": "stdout",
     "output_type": "stream",
     "text": [
      "Epoch 11: loss 1.0557  val‑F1 0.4900\n"
     ]
    },
    {
     "name": "stderr",
     "output_type": "stream",
     "text": [
      "/tmp/ipykernel_3109506/527496067.py:6: FutureWarning: `torch.cuda.amp.autocast(args...)` is deprecated. Please use `torch.amp.autocast('cuda', args...)` instead.\n",
      "  with autocast():\n",
      "/tmp/ipykernel_3109506/527496067.py:19: FutureWarning: `torch.cuda.amp.autocast(args...)` is deprecated. Please use `torch.amp.autocast('cuda', args...)` instead.\n",
      "  with torch.no_grad(), autocast():\n"
     ]
    },
    {
     "name": "stdout",
     "output_type": "stream",
     "text": [
      "Epoch 12: loss 1.0280  val‑F1 0.4908\n"
     ]
    },
    {
     "name": "stderr",
     "output_type": "stream",
     "text": [
      "/tmp/ipykernel_3109506/527496067.py:6: FutureWarning: `torch.cuda.amp.autocast(args...)` is deprecated. Please use `torch.amp.autocast('cuda', args...)` instead.\n",
      "  with autocast():\n",
      "/tmp/ipykernel_3109506/527496067.py:19: FutureWarning: `torch.cuda.amp.autocast(args...)` is deprecated. Please use `torch.amp.autocast('cuda', args...)` instead.\n",
      "  with torch.no_grad(), autocast():\n"
     ]
    },
    {
     "name": "stdout",
     "output_type": "stream",
     "text": [
      "Epoch 13: loss 1.0054  val‑F1 0.4816\n"
     ]
    },
    {
     "name": "stderr",
     "output_type": "stream",
     "text": [
      "/tmp/ipykernel_3109506/527496067.py:6: FutureWarning: `torch.cuda.amp.autocast(args...)` is deprecated. Please use `torch.amp.autocast('cuda', args...)` instead.\n",
      "  with autocast():\n",
      "/tmp/ipykernel_3109506/527496067.py:19: FutureWarning: `torch.cuda.amp.autocast(args...)` is deprecated. Please use `torch.amp.autocast('cuda', args...)` instead.\n",
      "  with torch.no_grad(), autocast():\n"
     ]
    },
    {
     "name": "stdout",
     "output_type": "stream",
     "text": [
      "Epoch 14: loss 0.9703  val‑F1 0.5034\n"
     ]
    },
    {
     "name": "stderr",
     "output_type": "stream",
     "text": [
      "/tmp/ipykernel_3109506/527496067.py:6: FutureWarning: `torch.cuda.amp.autocast(args...)` is deprecated. Please use `torch.amp.autocast('cuda', args...)` instead.\n",
      "  with autocast():\n",
      "/tmp/ipykernel_3109506/527496067.py:19: FutureWarning: `torch.cuda.amp.autocast(args...)` is deprecated. Please use `torch.amp.autocast('cuda', args...)` instead.\n",
      "  with torch.no_grad(), autocast():\n"
     ]
    },
    {
     "name": "stdout",
     "output_type": "stream",
     "text": [
      "Epoch 15: loss 0.9560  val‑F1 0.4858\n"
     ]
    },
    {
     "name": "stderr",
     "output_type": "stream",
     "text": [
      "/tmp/ipykernel_3109506/527496067.py:6: FutureWarning: `torch.cuda.amp.autocast(args...)` is deprecated. Please use `torch.amp.autocast('cuda', args...)` instead.\n",
      "  with autocast():\n",
      "/tmp/ipykernel_3109506/527496067.py:19: FutureWarning: `torch.cuda.amp.autocast(args...)` is deprecated. Please use `torch.amp.autocast('cuda', args...)` instead.\n",
      "  with torch.no_grad(), autocast():\n"
     ]
    },
    {
     "name": "stdout",
     "output_type": "stream",
     "text": [
      "Epoch 16: loss 0.9245  val‑F1 0.5043\n"
     ]
    },
    {
     "name": "stderr",
     "output_type": "stream",
     "text": [
      "/tmp/ipykernel_3109506/527496067.py:6: FutureWarning: `torch.cuda.amp.autocast(args...)` is deprecated. Please use `torch.amp.autocast('cuda', args...)` instead.\n",
      "  with autocast():\n",
      "/tmp/ipykernel_3109506/527496067.py:19: FutureWarning: `torch.cuda.amp.autocast(args...)` is deprecated. Please use `torch.amp.autocast('cuda', args...)` instead.\n",
      "  with torch.no_grad(), autocast():\n"
     ]
    },
    {
     "name": "stdout",
     "output_type": "stream",
     "text": [
      "Epoch 17: loss 0.8839  val‑F1 0.4719\n"
     ]
    },
    {
     "name": "stderr",
     "output_type": "stream",
     "text": [
      "/tmp/ipykernel_3109506/527496067.py:6: FutureWarning: `torch.cuda.amp.autocast(args...)` is deprecated. Please use `torch.amp.autocast('cuda', args...)` instead.\n",
      "  with autocast():\n",
      "/tmp/ipykernel_3109506/527496067.py:19: FutureWarning: `torch.cuda.amp.autocast(args...)` is deprecated. Please use `torch.amp.autocast('cuda', args...)` instead.\n",
      "  with torch.no_grad(), autocast():\n"
     ]
    },
    {
     "name": "stdout",
     "output_type": "stream",
     "text": [
      "Epoch 18: loss 0.8552  val‑F1 0.4868\n"
     ]
    },
    {
     "name": "stderr",
     "output_type": "stream",
     "text": [
      "/tmp/ipykernel_3109506/527496067.py:6: FutureWarning: `torch.cuda.amp.autocast(args...)` is deprecated. Please use `torch.amp.autocast('cuda', args...)` instead.\n",
      "  with autocast():\n",
      "/tmp/ipykernel_3109506/527496067.py:19: FutureWarning: `torch.cuda.amp.autocast(args...)` is deprecated. Please use `torch.amp.autocast('cuda', args...)` instead.\n",
      "  with torch.no_grad(), autocast():\n"
     ]
    },
    {
     "name": "stdout",
     "output_type": "stream",
     "text": [
      "Epoch 19: loss 0.8014  val‑F1 0.4858\n"
     ]
    },
    {
     "name": "stderr",
     "output_type": "stream",
     "text": [
      "/tmp/ipykernel_3109506/527496067.py:6: FutureWarning: `torch.cuda.amp.autocast(args...)` is deprecated. Please use `torch.amp.autocast('cuda', args...)` instead.\n",
      "  with autocast():\n",
      "/tmp/ipykernel_3109506/527496067.py:19: FutureWarning: `torch.cuda.amp.autocast(args...)` is deprecated. Please use `torch.amp.autocast('cuda', args...)` instead.\n",
      "  with torch.no_grad(), autocast():\n"
     ]
    },
    {
     "name": "stdout",
     "output_type": "stream",
     "text": [
      "Epoch 20: loss 0.7793  val‑F1 0.4898\n"
     ]
    }
   ],
   "source": [
    "EPOCHS=20; best=0\n",
    "for ep in range(1,EPOCHS+1):\n",
    "    tloss=one_epoch()\n",
    "    f1,_,_ = evaluate(val_loader)\n",
    "    print(f\"Epoch {ep:02d}: loss {tloss:.4f}  val‑F1 {f1:.4f}\")\n",
    "    if f1>best:\n",
    "        torch.save(model.state_dict(),\"best_passt_emotion.pt\"); best=f1; print(\"📝 new best saved\")"
   ]
  },
  {
   "cell_type": "code",
   "execution_count": 18,
   "id": "6cc1d881-bd10-41f8-bfdf-7b82a7fb8899",
   "metadata": {},
   "outputs": [],
   "source": [
    "# %% [markdown]\n",
    "# ### 8  Load best checkpoint & final test metrics\n",
    "# %%"
   ]
  },
  {
   "cell_type": "code",
   "execution_count": 19,
   "id": "86dcc52d-0c13-463e-ae3d-0732c977ec46",
   "metadata": {},
   "outputs": [
    {
     "name": "stderr",
     "output_type": "stream",
     "text": [
      "/tmp/ipykernel_3109506/1290569092.py:1: FutureWarning: You are using `torch.load` with `weights_only=False` (the current default value), which uses the default pickle module implicitly. It is possible to construct malicious pickle data which will execute arbitrary code during unpickling (See https://github.com/pytorch/pytorch/blob/main/SECURITY.md#untrusted-models for more details). In a future release, the default value for `weights_only` will be flipped to `True`. This limits the functions that could be executed during unpickling. Arbitrary objects will no longer be allowed to be loaded via this mode unless they are explicitly allowlisted by the user via `torch.serialization.add_safe_globals`. We recommend you start setting `weights_only=True` for any use case where you don't have full control of the loaded file. Please open an issue on GitHub for any issues related to this experimental feature.\n",
      "  model.load_state_dict(torch.load(\"best_passt_emotion.pt\", map_location=DEVICE))\n",
      "/tmp/ipykernel_3109506/527496067.py:19: FutureWarning: `torch.cuda.amp.autocast(args...)` is deprecated. Please use `torch.amp.autocast('cuda', args...)` instead.\n",
      "  with torch.no_grad(), autocast():\n"
     ]
    },
    {
     "name": "stdout",
     "output_type": "stream",
     "text": [
      "Test weighted‑F1: 0.5204996199360076\n",
      "              precision    recall  f1-score   support\n",
      "\n",
      "         ANG     0.6340    0.7801    0.6995       191\n",
      "         DIS     0.4061    0.4869    0.4429       191\n",
      "         FEA     0.4938    0.4211    0.4545       190\n",
      "         HAP     0.5929    0.4346    0.5015       191\n",
      "         NEU     0.5255    0.4417    0.4800       163\n",
      "         SAD     0.5093    0.5707    0.5383       191\n",
      "\n",
      "    accuracy                         0.5246      1117\n",
      "   macro avg     0.5270    0.5225    0.5195      1117\n",
      "weighted avg     0.5270    0.5246    0.5205      1117\n",
      "\n"
     ]
    },
    {
     "data": {
      "image/png": "[encoded data removed]",
      "text/plain": [
       "<Figure size 640x480 with 2 Axes>"
      ]
     },
     "metadata": {},
     "output_type": "display_data"
    }
   ],
   "source": [
    "model.load_state_dict(torch.load(\"best_passt_emotion.pt\", map_location=DEVICE))\n",
    "f1, y_true, y_pred = evaluate(DataLoader(test_ds, batch_size=BATCH, collate_fn=collate))\n",
    "print(\"Test weighted‑F1:\", f1)\n",
    "print(classification_report(y_true, y_pred, target_names=EMOTIONS, digits=4))\n",
    "cm=confusion_matrix(y_true,y_pred)\n",
    "plt.imshow(cm,cmap=\"Blues\"); plt.title(\"Confusion matrix\"); plt.colorbar()\n",
    "plt.xticks(range(6),EMOTIONS,rotation=45); plt.yticks(range(6),EMOTIONS)\n",
    "for i in range(6):\n",
    "    for j in range(6):\n",
    "        plt.text(j,i,cm[i,j],ha=\"center\",va=\"center\")\n",
    "plt.tight_layout(); plt.show()\n"
   ]
  }
 ],
 "metadata": {
  "kernelspec": {
   "display_name": "Python 3 (ipykernel)",
   "language": "python",
   "name": "python3"
  },
  "language_info": {
   "codemirror_mode": {
    "name": "ipython",
    "version": 3
   },
   "file_extension": ".py",
   "mimetype": "text/x-python",
   "name": "python",
   "nbconvert_exporter": "python",
   "pygments_lexer": "ipython3",
   "version": "3.8.20"
  }
 },
 "nbformat": 4,
 "nbformat_minor": 5
}
